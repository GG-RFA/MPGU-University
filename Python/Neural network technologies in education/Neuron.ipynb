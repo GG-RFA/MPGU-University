{
  "nbformat": 4,
  "nbformat_minor": 0,
  "metadata": {
    "colab": {
      "provenance": []
    },
    "kernelspec": {
      "name": "python3",
      "display_name": "Python 3"
    },
    "language_info": {
      "name": "python"
    },
    "accelerator": "GPU",
    "gpuClass": "standard"
  },
  "cells": [
    {
      "cell_type": "markdown",
      "source": [
        "Подключаем библиотеки"
      ],
      "metadata": {
        "id": "yZBYOgxznJb-"
      }
    },
    {
      "cell_type": "code",
      "source": [
        "import matplotlib\n",
        "import numpy as np\n",
        "from keras.datasets import cifar10\n",
        "from keras.models import Sequential\n",
        "from keras.layers import Dense, Flatten\n",
        "from keras.layers import Dropout\n",
        "from keras.layers.convolutional import Conv2D, MaxPooling2D\n",
        "from keras.utils import np_utils\n",
        "from keras.preprocessing import image\n",
        "import matplotlib.pyplot as plt\n",
        "import tensorflow as tf\n",
        "%matplotlib inline"
      ],
      "metadata": {
        "id": "gyEnpMunCO5y"
      },
      "execution_count": 66,
      "outputs": []
    },
    {
      "cell_type": "code",
      "source": [
        "# Размер мини-выборки\n",
        "batch_size = 128\n",
        "# Количество классов изображений\n",
        "nb_classes = 10\n",
        "# Количество эпох для обучения\n",
        "nb_epoch = 25\n",
        "# Размер изображений\n",
        "img_rows, img_cols = 32, 32\n",
        "# Количество каналов в изображении: RGB\n",
        "img_channels = 3\n",
        "# Название классов из набора данных CIFAR-10\n",
        "classes = ['самолет','автомобиль','птица','кот','олень','собака','лягушка','лошадь','корабль','грузовик']"
      ],
      "metadata": {
        "id": "kIAhQAQZpqxs"
      },
      "execution_count": 67,
      "outputs": []
    },
    {
      "cell_type": "markdown",
      "source": [
        "**Подготовка данных**"
      ],
      "metadata": {
        "id": "UF2GxIMYtAqv"
      }
    },
    {
      "cell_type": "markdown",
      "source": [
        "Загружаем данные"
      ],
      "metadata": {
        "id": "HBkhpHn9tQFu"
      }
    },
    {
      "cell_type": "code",
      "source": [
        "(X_train, y_train), (X_test, y_test) = cifar10.load_data()"
      ],
      "metadata": {
        "id": "1WV8PIT7tSzT"
      },
      "execution_count": 68,
      "outputs": []
    },
    {
      "cell_type": "markdown",
      "source": [
        "Просмотр примеров данных"
      ],
      "metadata": {
        "id": "f-Rm8aRdtjtU"
      }
    },
    {
      "cell_type": "code",
      "source": [
        "n = 167\n",
        "plt.imshow(X_train[n])\n",
        "plt.show()\n",
        "print(\"Номер класса: \", y_train[n])\n",
        "print(\"Тип объекта: \", classes[y_train[n][0]])"
      ],
      "metadata": {
        "colab": {
          "base_uri": "https://localhost:8080/",
          "height": 301
        },
        "id": "3BU-dAfEtmDy",
        "outputId": "d7ab2fcf-939e-4e51-ec32-c89bbab5b85a"
      },
      "execution_count": 69,
      "outputs": [
        {
          "output_type": "display_data",
          "data": {
            "text/plain": [
              "<Figure size 432x288 with 1 Axes>"
            ],
            "image/png": "[encoded data removed]"
          },
          "metadata": {
            "needs_background": "light"
          }
        },
        {
          "output_type": "stream",
          "name": "stdout",
          "text": [
            "Номер класса:  [5]\n",
            "Тип объекта:  собака\n"
          ]
        }
      ]
    },
    {
      "cell_type": "markdown",
      "source": [
        "Нормализуем данные"
      ],
      "metadata": {
        "id": "3kT-ysPFuvex"
      }
    },
    {
      "cell_type": "code",
      "source": [
        "X_train = X_train.astype('float32')\n",
        "X_test = X_test.astype('float32')\n",
        "X_train /= 255\n",
        "X_test /= 255"
      ],
      "metadata": {
        "id": "Zv3My1Vruxwb"
      },
      "execution_count": 70,
      "outputs": []
    },
    {
      "cell_type": "markdown",
      "source": [
        "Преобразуем правильные ответы в формат one hot encoding"
      ],
      "metadata": {
        "id": "_Xi7wwp_vnQQ"
      }
    },
    {
      "cell_type": "code",
      "source": [
        "Y_train = np_utils.to_categorical(y_train, nb_classes)\n",
        "Y_test = np_utils.to_categorical(y_test, nb_classes)"
      ],
      "metadata": {
        "id": "Yx1zlQYCvulc"
      },
      "execution_count": 71,
      "outputs": []
    },
    {
      "cell_type": "markdown",
      "source": [
        "**Создаём нейронную сеть**"
      ],
      "metadata": {
        "id": "_9Hp_BvPwiJ3"
      }
    },
    {
      "cell_type": "code",
      "source": [
        "# Создаём последовательную модель\n",
        "model = Sequential()\n",
        "# Первый сверточный слой\n",
        "model.add(Conv2D(32,(3,3), padding='same', input_shape=(32,32,3), activation='relu'))\n",
        "# Второй сверточный слой\n",
        "model.add(Conv2D(32,(3,3), padding='same', activation = 'relu'))\n",
        "# Первый слой подвыборки\n",
        "model.add(MaxPooling2D(pool_size=(2,2)))\n",
        "# Слой регуляризации\n",
        "model.add(Dropout(0.25))\n",
        "# Третий сверточный слой\n",
        "model.add(Conv2D(64, (3,3), padding='same', activation='relu'))\n",
        "# Четвертый сверточный слой\n",
        "model.add(Conv2D(64, (3,3), activation='relu'))\n",
        "# Второй слой подвыборки\n",
        "model.add(MaxPooling2D(pool_size=(2,2)))\n",
        "# Слой регуляризации\n",
        "model.add(Dropout(0.25))\n",
        "# Слой преобразования данных с понижением размерности\n",
        "model.add(Flatten())\n",
        "# Полносвязный слой для классификации\n",
        "model.add(Dense(512, activation='relu'))\n",
        "# Слой регуляризации\n",
        "model.add(Dropout(0.5))\n",
        "# Выходной полносвязный слой\n",
        "model.add(Dense(nb_classes, activation='softmax'))"
      ],
      "metadata": {
        "id": "_KHiKTXewmoI"
      },
      "execution_count": 72,
      "outputs": []
    },
    {
      "cell_type": "markdown",
      "source": [
        "Печатаем информацию о сети"
      ],
      "metadata": {
        "id": "jv2zUg972jOX"
      }
    },
    {
      "cell_type": "code",
      "source": [
        "print(model.summary())"
      ],
      "metadata": {
        "colab": {
          "base_uri": "https://localhost:8080/"
        },
        "id": "L07u2mlMxa3L",
        "outputId": "55f44260-474d-469b-d38d-44e32dce766b"
      },
      "execution_count": 73,
      "outputs": [
        {
          "output_type": "stream",
          "name": "stdout",
          "text": [
            "Model: \"sequential_1\"\n",
            "_________________________________________________________________\n",
            " Layer (type)                Output Shape              Param #   \n",
            "=================================================================\n",
            " conv2d_4 (Conv2D)           (None, 32, 32, 32)        896       \n",
            "                                                                 \n",
            " conv2d_5 (Conv2D)           (None, 32, 32, 32)        9248      \n",
            "                                                                 \n",
            " max_pooling2d_2 (MaxPooling  (None, 16, 16, 32)       0         \n",
            " 2D)                                                             \n",
            "                                                                 \n",
            " dropout_3 (Dropout)         (None, 16, 16, 32)        0         \n",
            "                                                                 \n",
            " conv2d_6 (Conv2D)           (None, 16, 16, 64)        18496     \n",
            "                                                                 \n",
            " conv2d_7 (Conv2D)           (None, 14, 14, 64)        36928     \n",
            "                                                                 \n",
            " max_pooling2d_3 (MaxPooling  (None, 7, 7, 64)         0         \n",
            " 2D)                                                             \n",
            "                                                                 \n",
            " dropout_4 (Dropout)         (None, 7, 7, 64)          0         \n",
            "                                                                 \n",
            " flatten_1 (Flatten)         (None, 3136)              0         \n",
            "                                                                 \n",
            " dense_2 (Dense)             (None, 512)               1606144   \n",
            "                                                                 \n",
            " dropout_5 (Dropout)         (None, 512)               0         \n",
            "                                                                 \n",
            " dense_3 (Dense)             (None, 10)                5130      \n",
            "                                                                 \n",
            "=================================================================\n",
            "Total params: 1,676,842\n",
            "Trainable params: 1,676,842\n",
            "Non-trainable params: 0\n",
            "_________________________________________________________________\n",
            "None\n"
          ]
        }
      ]
    },
    {
      "cell_type": "markdown",
      "source": [
        "Компилируем модель"
      ],
      "metadata": {
        "id": "rZjpB3Rs2wSx"
      }
    },
    {
      "cell_type": "code",
      "source": [
        "from keras.optimizers.optimizer_v1 import Optimizer\n",
        "model.compile(loss='categorical_crossentropy', optimizer='adam', metrics=['accuracy'])"
      ],
      "metadata": {
        "id": "bFzyWhCz25LI"
      },
      "execution_count": 74,
      "outputs": []
    },
    {
      "cell_type": "markdown",
      "source": [
        "Обучение нейронной сети"
      ],
      "metadata": {
        "id": "nyLBi_je3cJT"
      }
    },
    {
      "cell_type": "code",
      "source": [
        "history = model.fit(X_train, Y_train,\n",
        "                    batch_size=batch_size,\n",
        "                    epochs=nb_epoch,\n",
        "                    validation_split=0.1,\n",
        "                    shuffle=True,\n",
        "                    verbose=2)"
      ],
      "metadata": {
        "colab": {
          "base_uri": "https://localhost:8080/"
        },
        "id": "g0__GLxq3gcK",
        "outputId": "3c3c88d9-54a6-497b-a1ef-b15c08a9225d"
      },
      "execution_count": 75,
      "outputs": [
        {
          "output_type": "stream",
          "name": "stdout",
          "text": [
            "Epoch 1/25\n",
            "352/352 - 6s - loss: 1.6210 - accuracy: 0.4083 - val_loss: 1.2295 - val_accuracy: 0.5620 - 6s/epoch - 18ms/step\n",
            "Epoch 2/25\n",
            "352/352 - 4s - loss: 1.1949 - accuracy: 0.5759 - val_loss: 0.9927 - val_accuracy: 0.6396 - 4s/epoch - 12ms/step\n",
            "Epoch 3/25\n",
            "352/352 - 4s - loss: 1.0172 - accuracy: 0.6385 - val_loss: 0.8578 - val_accuracy: 0.7026 - 4s/epoch - 12ms/step\n",
            "Epoch 4/25\n",
            "352/352 - 4s - loss: 0.9038 - accuracy: 0.6817 - val_loss: 0.7878 - val_accuracy: 0.7260 - 4s/epoch - 12ms/step\n",
            "Epoch 5/25\n",
            "352/352 - 5s - loss: 0.8162 - accuracy: 0.7126 - val_loss: 0.7268 - val_accuracy: 0.7440 - 5s/epoch - 14ms/step\n",
            "Epoch 6/25\n",
            "352/352 - 4s - loss: 0.7537 - accuracy: 0.7353 - val_loss: 0.7569 - val_accuracy: 0.7412 - 4s/epoch - 12ms/step\n",
            "Epoch 7/25\n",
            "352/352 - 4s - loss: 0.7004 - accuracy: 0.7545 - val_loss: 0.6741 - val_accuracy: 0.7686 - 4s/epoch - 12ms/step\n",
            "Epoch 8/25\n",
            "352/352 - 4s - loss: 0.6548 - accuracy: 0.7692 - val_loss: 0.6430 - val_accuracy: 0.7812 - 4s/epoch - 13ms/step\n",
            "Epoch 9/25\n",
            "352/352 - 4s - loss: 0.6136 - accuracy: 0.7817 - val_loss: 0.6285 - val_accuracy: 0.7798 - 4s/epoch - 12ms/step\n",
            "Epoch 10/25\n",
            "352/352 - 4s - loss: 0.5763 - accuracy: 0.7957 - val_loss: 0.6221 - val_accuracy: 0.7908 - 4s/epoch - 12ms/step\n",
            "Epoch 11/25\n",
            "352/352 - 4s - loss: 0.5401 - accuracy: 0.8085 - val_loss: 0.6133 - val_accuracy: 0.7934 - 4s/epoch - 12ms/step\n",
            "Epoch 12/25\n",
            "352/352 - 4s - loss: 0.5099 - accuracy: 0.8187 - val_loss: 0.6103 - val_accuracy: 0.7984 - 4s/epoch - 12ms/step\n",
            "Epoch 13/25\n",
            "352/352 - 4s - loss: 0.4898 - accuracy: 0.8265 - val_loss: 0.6183 - val_accuracy: 0.7900 - 4s/epoch - 12ms/step\n",
            "Epoch 14/25\n",
            "352/352 - 4s - loss: 0.4642 - accuracy: 0.8351 - val_loss: 0.6213 - val_accuracy: 0.7902 - 4s/epoch - 12ms/step\n",
            "Epoch 15/25\n",
            "352/352 - 4s - loss: 0.4383 - accuracy: 0.8431 - val_loss: 0.5919 - val_accuracy: 0.8032 - 4s/epoch - 12ms/step\n",
            "Epoch 16/25\n",
            "352/352 - 4s - loss: 0.4178 - accuracy: 0.8507 - val_loss: 0.6092 - val_accuracy: 0.8022 - 4s/epoch - 13ms/step\n",
            "Epoch 17/25\n",
            "352/352 - 4s - loss: 0.4023 - accuracy: 0.8566 - val_loss: 0.6114 - val_accuracy: 0.8088 - 4s/epoch - 12ms/step\n",
            "Epoch 18/25\n",
            "352/352 - 4s - loss: 0.3859 - accuracy: 0.8624 - val_loss: 0.6098 - val_accuracy: 0.8020 - 4s/epoch - 12ms/step\n",
            "Epoch 19/25\n",
            "352/352 - 4s - loss: 0.3707 - accuracy: 0.8680 - val_loss: 0.6210 - val_accuracy: 0.8012 - 4s/epoch - 12ms/step\n",
            "Epoch 20/25\n",
            "352/352 - 4s - loss: 0.3629 - accuracy: 0.8715 - val_loss: 0.6249 - val_accuracy: 0.8032 - 4s/epoch - 12ms/step\n",
            "Epoch 21/25\n",
            "352/352 - 4s - loss: 0.3412 - accuracy: 0.8789 - val_loss: 0.6298 - val_accuracy: 0.8068 - 4s/epoch - 12ms/step\n",
            "Epoch 22/25\n",
            "352/352 - 4s - loss: 0.3333 - accuracy: 0.8814 - val_loss: 0.6255 - val_accuracy: 0.8144 - 4s/epoch - 13ms/step\n",
            "Epoch 23/25\n",
            "352/352 - 4s - loss: 0.3228 - accuracy: 0.8851 - val_loss: 0.6559 - val_accuracy: 0.7958 - 4s/epoch - 12ms/step\n",
            "Epoch 24/25\n",
            "352/352 - 4s - loss: 0.3083 - accuracy: 0.8899 - val_loss: 0.6649 - val_accuracy: 0.8022 - 4s/epoch - 12ms/step\n",
            "Epoch 25/25\n",
            "352/352 - 4s - loss: 0.3027 - accuracy: 0.8917 - val_loss: 0.6372 - val_accuracy: 0.8108 - 4s/epoch - 12ms/step\n"
          ]
        }
      ]
    },
    {
      "cell_type": "markdown",
      "source": [
        "Оцениваем качество обучения сети"
      ],
      "metadata": {
        "id": "Hr8axOTp9ulo"
      }
    },
    {
      "cell_type": "code",
      "source": [
        "scores=model.evaluate(X_test, Y_test, verbose=0)\n",
        "print(\"Точность работы на тестовых данных: %2f%%\"%(scores[1]*100))"
      ],
      "metadata": {
        "colab": {
          "base_uri": "https://localhost:8080/"
        },
        "id": "gweumN7O96IT",
        "outputId": "fb7dfd38-78dc-48c2-a6b6-a83663976940"
      },
      "execution_count": 76,
      "outputs": [
        {
          "output_type": "stream",
          "name": "stdout",
          "text": [
            "Точность работы на тестовых данных: 79.930001%\n"
          ]
        }
      ]
    },
    {
      "cell_type": "markdown",
      "source": [
        "Графически"
      ],
      "metadata": {
        "id": "Nn5P17IX-k-s"
      }
    },
    {
      "cell_type": "code",
      "source": [
        "history_dict = history.history\n",
        "print(history_dict.keys())\n",
        "acc_values = history_dict['accuracy']\n",
        "val_acc_values = history_dict['val_accuracy']\n",
        "epochs = range(1, len(acc_values)+1)\n",
        "plt.plot(epochs, acc_values, 'bo', label = 'Training acc')\n",
        "plt.plot(epochs, val_acc_values, 'b', label = 'Validation acc')\n",
        "plt.xlabel('Epochs')\n",
        "plt.ylabel('Accuracy')\n",
        "plt.legend()\n",
        "plt.show()"
      ],
      "metadata": {
        "colab": {
          "base_uri": "https://localhost:8080/",
          "height": 296
        },
        "id": "mgzwI9d9-oGF",
        "outputId": "65219a1b-8ad0-4223-ad72-3644f39506cb"
      },
      "execution_count": 77,
      "outputs": [
        {
          "output_type": "stream",
          "name": "stdout",
          "text": [
            "dict_keys(['loss', 'accuracy', 'val_loss', 'val_accuracy'])\n"
          ]
        },
        {
          "output_type": "display_data",
          "data": {
            "text/plain": [
              "<Figure size 432x288 with 1 Axes>"
            ],
            "image/png": "[encoded data removed]"
          },
          "metadata": {
            "needs_background": "light"
          }
        }
      ]
    },
    {
      "cell_type": "markdown",
      "source": [
        "Сохраняем обученную нейронную сеть\n"
      ],
      "metadata": {
        "id": "oIxV0xCWAhyg"
      }
    },
    {
      "cell_type": "code",
      "source": [
        "model_json = model.to_json()\n",
        "json_file = open(\"cifar10_model.json\", \"w\")\n",
        "json_file.write(model_json)\n",
        "json_file.close()\n",
        "model.save_weights('cifar10_model.h5')"
      ],
      "metadata": {
        "id": "JC2c62ruAyuF"
      },
      "execution_count": 78,
      "outputs": []
    },
    {
      "cell_type": "code",
      "source": [
        "!ls"
      ],
      "metadata": {
        "colab": {
          "base_uri": "https://localhost:8080/"
        },
        "id": "8JJYL860BxpM",
        "outputId": "b0073330-3020-4be3-dd6e-c851baaa6603"
      },
      "execution_count": 79,
      "outputs": [
        {
          "output_type": "stream",
          "name": "stdout",
          "text": [
            "cifar10_model.h5  cifar10_model.json  frog.png\tsample_data  ship.png\n"
          ]
        }
      ]
    },
    {
      "cell_type": "code",
      "source": [
        "from google.colab import files"
      ],
      "metadata": {
        "id": "hfUmfpkLB8hA"
      },
      "execution_count": 80,
      "outputs": []
    },
    {
      "cell_type": "code",
      "source": [
        "files.download(\"cifar10_model.json\")"
      ],
      "metadata": {
        "colab": {
          "base_uri": "https://localhost:8080/",
          "height": 17
        },
        "id": "iXXBY3TfCUiO",
        "outputId": "b877fdb3-ba46-4e89-c184-0e93f015afc7"
      },
      "execution_count": 81,
      "outputs": [
        {
          "output_type": "display_data",
          "data": {
            "text/plain": [
              "<IPython.core.display.Javascript object>"
            ],
            "application/javascript": [
              "\n",
              "    async function download(id, filename, size) {\n",
              "      if (!google.colab.kernel.accessAllowed) {\n",
              "        return;\n",
              "      }\n",
              "      const div = document.createElement('div');\n",
              "      const label = document.createElement('label');\n",
              "      label.textContent = `Downloading \"${filename}\": `;\n",
              "      div.appendChild(label);\n",
              "      const progress = document.createElement('progress');\n",
              "      progress.max = size;\n",
              "      div.appendChild(progress);\n",
              "      document.body.appendChild(div);\n",
              "\n",
              "      const buffers = [];\n",
              "      let downloaded = 0;\n",
              "\n",
              "      const channel = await google.colab.kernel.comms.open(id);\n",
              "      // Send a message to notify the kernel that we're ready.\n",
              "      channel.send({})\n",
              "\n",
              "      for await (const message of channel.messages) {\n",
              "        // Send a message to notify the kernel that we're ready.\n",
              "        channel.send({})\n",
              "        if (message.buffers) {\n",
              "          for (const buffer of message.buffers) {\n",
              "            buffers.push(buffer);\n",
              "            downloaded += buffer.byteLength;\n",
              "            progress.value = downloaded;\n",
              "          }\n",
              "        }\n",
              "      }\n",
              "      const blob = new Blob(buffers, {type: 'application/binary'});\n",
              "      const a = document.createElement('a');\n",
              "      a.href = window.URL.createObjectURL(blob);\n",
              "      a.download = filename;\n",
              "      div.appendChild(a);\n",
              "      a.click();\n",
              "      div.remove();\n",
              "    }\n",
              "  "
            ]
          },
          "metadata": {}
        },
        {
          "output_type": "display_data",
          "data": {
            "text/plain": [
              "<IPython.core.display.Javascript object>"
            ],
            "application/javascript": [
              "download(\"download_daf43658-b5b0-4d8f-be45-442486f26508\", \"cifar10_model.json\", 4397)"
            ]
          },
          "metadata": {}
        }
      ]
    },
    {
      "cell_type": "code",
      "source": [
        "files.download(\"cifar10_model.h5\")"
      ],
      "metadata": {
        "colab": {
          "base_uri": "https://localhost:8080/",
          "height": 17
        },
        "id": "YCcX4SyaCXn2",
        "outputId": "71707aeb-4b1e-405c-cfce-7dbd23137530"
      },
      "execution_count": 82,
      "outputs": [
        {
          "output_type": "display_data",
          "data": {
            "text/plain": [
              "<IPython.core.display.Javascript object>"
            ],
            "application/javascript": [
              "\n",
              "    async function download(id, filename, size) {\n",
              "      if (!google.colab.kernel.accessAllowed) {\n",
              "        return;\n",
              "      }\n",
              "      const div = document.createElement('div');\n",
              "      const label = document.createElement('label');\n",
              "      label.textContent = `Downloading \"${filename}\": `;\n",
              "      div.appendChild(label);\n",
              "      const progress = document.createElement('progress');\n",
              "      progress.max = size;\n",
              "      div.appendChild(progress);\n",
              "      document.body.appendChild(div);\n",
              "\n",
              "      const buffers = [];\n",
              "      let downloaded = 0;\n",
              "\n",
              "      const channel = await google.colab.kernel.comms.open(id);\n",
              "      // Send a message to notify the kernel that we're ready.\n",
              "      channel.send({})\n",
              "\n",
              "      for await (const message of channel.messages) {\n",
              "        // Send a message to notify the kernel that we're ready.\n",
              "        channel.send({})\n",
              "        if (message.buffers) {\n",
              "          for (const buffer of message.buffers) {\n",
              "            buffers.push(buffer);\n",
              "            downloaded += buffer.byteLength;\n",
              "            progress.value = downloaded;\n",
              "          }\n",
              "        }\n",
              "      }\n",
              "      const blob = new Blob(buffers, {type: 'application/binary'});\n",
              "      const a = document.createElement('a');\n",
              "      a.href = window.URL.createObjectURL(blob);\n",
              "      a.download = filename;\n",
              "      div.appendChild(a);\n",
              "      a.click();\n",
              "      div.remove();\n",
              "    }\n",
              "  "
            ]
          },
          "metadata": {}
        },
        {
          "output_type": "display_data",
          "data": {
            "text/plain": [
              "<IPython.core.display.Javascript object>"
            ],
            "application/javascript": [
              "download(\"download_39675747-9fa3-4a24-9474-01fc370ce67f\", \"cifar10_model.h5\", 6737776)"
            ]
          },
          "metadata": {}
        }
      ]
    },
    {
      "cell_type": "markdown",
      "source": [
        "**Применяем сеть для распознавания объектов на изображениях**"
      ],
      "metadata": {
        "id": "xp2Kmb1_Cwyt"
      }
    },
    {
      "cell_type": "markdown",
      "source": [
        "Просмотр изображения из набора данных для тестирования"
      ],
      "metadata": {
        "id": "-zotcpYmDEWZ"
      }
    },
    {
      "cell_type": "code",
      "source": [
        "index=11\n",
        "plt.imshow(X_test[index])\n",
        "plt.show()"
      ],
      "metadata": {
        "colab": {
          "base_uri": "https://localhost:8080/",
          "height": 266
        },
        "id": "dOqFcbH5DHPa",
        "outputId": "34300979-1f16-415e-b5de-a9aeab950481"
      },
      "execution_count": 83,
      "outputs": [
        {
          "output_type": "display_data",
          "data": {
            "text/plain": [
              "<Figure size 432x288 with 1 Axes>"
            ],
            "image/png": "[encoded data removed]"
          },
          "metadata": {
            "needs_background": "light"
          }
        }
      ]
    },
    {
      "cell_type": "markdown",
      "source": [
        "Преобразование тестового изображения"
      ],
      "metadata": {
        "id": "MwSGZUXJDd9c"
      }
    },
    {
      "cell_type": "code",
      "source": [
        "x = X_test[index]\n",
        "x = np.expand_dims(x,axis=0)"
      ],
      "metadata": {
        "id": "ATYqkDeuDhPx"
      },
      "execution_count": 84,
      "outputs": []
    },
    {
      "cell_type": "markdown",
      "source": [
        "Запуск распознавания"
      ],
      "metadata": {
        "id": "e3I3QWKoD3Ad"
      }
    },
    {
      "cell_type": "code",
      "source": [
        "prediction = model.predict(x)"
      ],
      "metadata": {
        "colab": {
          "base_uri": "https://localhost:8080/"
        },
        "id": "vOvx08IND6OI",
        "outputId": "169acda0-5296-4226-d912-f61821b7a24e"
      },
      "execution_count": 85,
      "outputs": [
        {
          "output_type": "stream",
          "name": "stdout",
          "text": [
            "1/1 [==============================] - 0s 83ms/step\n"
          ]
        }
      ]
    },
    {
      "cell_type": "markdown",
      "source": [
        "Печатаем результаты распознавания"
      ],
      "metadata": {
        "id": "NZ_2VeSrEKEb"
      }
    },
    {
      "cell_type": "code",
      "source": [
        "print(prediction)"
      ],
      "metadata": {
        "colab": {
          "base_uri": "https://localhost:8080/"
        },
        "id": "fNv73fFQENEf",
        "outputId": "0b9efe07-f325-4cc0-eea8-4de3bd5fdba3"
      },
      "execution_count": 86,
      "outputs": [
        {
          "output_type": "stream",
          "name": "stdout",
          "text": [
            "[[2.5624038e-11 3.7084307e-04 2.4449796e-18 1.7979189e-17 1.5027409e-22\n",
            "  1.0777508e-18 2.8187834e-19 4.8360549e-21 8.7600496e-11 9.9962914e-01]]\n"
          ]
        }
      ]
    },
    {
      "cell_type": "markdown",
      "source": [
        "Преобазуем результаты из формата one hot encoding"
      ],
      "metadata": {
        "id": "qtX0KknYEhU6"
      }
    },
    {
      "cell_type": "code",
      "source": [
        "prediction = np.argmax(prediction)\n",
        "print(classes[prediction])"
      ],
      "metadata": {
        "colab": {
          "base_uri": "https://localhost:8080/"
        },
        "id": "8Ttfwr4CExst",
        "outputId": "8102d291-6a45-443e-cd5b-5cbee4e4c1ac"
      },
      "execution_count": 87,
      "outputs": [
        {
          "output_type": "stream",
          "name": "stdout",
          "text": [
            "грузовик\n"
          ]
        }
      ]
    },
    {
      "cell_type": "markdown",
      "source": [
        "Печатаем правильный ответ"
      ],
      "metadata": {
        "id": "ZpGWvfBNFj-g"
      }
    },
    {
      "cell_type": "code",
      "source": [
        "print(classes[y_test[index][0]])"
      ],
      "metadata": {
        "colab": {
          "base_uri": "https://localhost:8080/"
        },
        "id": "dLJPhLWEFll1",
        "outputId": "16fcdb29-7b01-46d3-8283-8283c89ae6af"
      },
      "execution_count": 88,
      "outputs": [
        {
          "output_type": "stream",
          "name": "stdout",
          "text": [
            "грузовик\n"
          ]
        }
      ]
    },
    {
      "cell_type": "markdown",
      "source": [
        "Распознавание дополнительного изображения"
      ],
      "metadata": {
        "id": "4BNwvhjqF9ed"
      }
    },
    {
      "cell_type": "code",
      "source": [
        " from google.colab import files\n",
        " files.upload()"
      ],
      "metadata": {
        "colab": {
          "base_uri": "https://localhost:8080/",
          "height": 1000
        },
        "id": "LRXEcXXpGAG0",
        "outputId": "7f516a8a-720d-4a84-8699-25fb5b2b37e9"
      },
      "execution_count": 89,
      "outputs": [
        {
          "output_type": "display_data",
          "data": {
            "text/plain": [
              "<IPython.core.display.HTML object>"
            ],
            "text/html": [
              "\n",
              "     <input type=\"file\" id=\"files-d908e208-2193-4962-8df3-1113135daa21\" name=\"files[]\" multiple disabled\n",
              "        style=\"border:none\" />\n",
              "     <output id=\"result-d908e208-2193-4962-8df3-1113135daa21\">\n",
              "      Upload widget is only available when the cell has been executed in the\n",
              "      current browser session. Please rerun this cell to enable.\n",
              "      </output>\n",
              "      <script>// Copyright 2017 Google LLC\n",
              "//\n",
              "// Licensed under the Apache License, Version 2.0 (the \"License\");\n",
              "// you may not use this file except in compliance with the License.\n",
              "// You may obtain a copy of the License at\n",
              "//\n",
              "//      http://www.apache.org/licenses/LICENSE-2.0\n",
              "//\n",
              "// Unless required by applicable law or agreed to in writing, software\n",
              "// distributed under the License is distributed on an \"AS IS\" BASIS,\n",
              "// WITHOUT WARRANTIES OR CONDITIONS OF ANY KIND, either express or implied.\n",
              "// See the License for the specific language governing permissions and\n",
              "// limitations under the License.\n",
              "\n",
              "/**\n",
              " * @fileoverview Helpers for google.colab Python module.\n",
              " */\n",
              "(function(scope) {\n",
              "function span(text, styleAttributes = {}) {\n",
              "  const element = document.createElement('span');\n",
              "  element.textContent = text;\n",
              "  for (const key of Object.keys(styleAttributes)) {\n",
              "    element.style[key] = styleAttributes[key];\n",
              "  }\n",
              "  return element;\n",
              "}\n",
              "\n",
              "// Max number of bytes which will be uploaded at a time.\n",
              "const MAX_PAYLOAD_SIZE = 100 * 1024;\n",
              "\n",
              "function _uploadFiles(inputId, outputId) {\n",
              "  const steps = uploadFilesStep(inputId, outputId);\n",
              "  const outputElement = document.getElementById(outputId);\n",
              "  // Cache steps on the outputElement to make it available for the next call\n",
              "  // to uploadFilesContinue from Python.\n",
              "  outputElement.steps = steps;\n",
              "\n",
              "  return _uploadFilesContinue(outputId);\n",
              "}\n",
              "\n",
              "// This is roughly an async generator (not supported in the browser yet),\n",
              "// where there are multiple asynchronous steps and the Python side is going\n",
              "// to poll for completion of each step.\n",
              "// This uses a Promise to block the python side on completion of each step,\n",
              "// then passes the result of the previous step as the input to the next step.\n",
              "function _uploadFilesContinue(outputId) {\n",
              "  const outputElement = document.getElementById(outputId);\n",
              "  const steps = outputElement.steps;\n",
              "\n",
              "  const next = steps.next(outputElement.lastPromiseValue);\n",
              "  return Promise.resolve(next.value.promise).then((value) => {\n",
              "    // Cache the last promise value to make it available to the next\n",
              "    // step of the generator.\n",
              "    outputElement.lastPromiseValue = value;\n",
              "    return next.value.response;\n",
              "  });\n",
              "}\n",
              "\n",
              "/**\n",
              " * Generator function which is called between each async step of the upload\n",
              " * process.\n",
              " * @param {string} inputId Element ID of the input file picker element.\n",
              " * @param {string} outputId Element ID of the output display.\n",
              " * @return {!Iterable<!Object>} Iterable of next steps.\n",
              " */\n",
              "function* uploadFilesStep(inputId, outputId) {\n",
              "  const inputElement = document.getElementById(inputId);\n",
              "  inputElement.disabled = false;\n",
              "\n",
              "  const outputElement = document.getElementById(outputId);\n",
              "  outputElement.innerHTML = '';\n",
              "\n",
              "  const pickedPromise = new Promise((resolve) => {\n",
              "    inputElement.addEventListener('change', (e) => {\n",
              "      resolve(e.target.files);\n",
              "    });\n",
              "  });\n",
              "\n",
              "  const cancel = document.createElement('button');\n",
              "  inputElement.parentElement.appendChild(cancel);\n",
              "  cancel.textContent = 'Cancel upload';\n",
              "  const cancelPromise = new Promise((resolve) => {\n",
              "    cancel.onclick = () => {\n",
              "      resolve(null);\n",
              "    };\n",
              "  });\n",
              "\n",
              "  // Wait for the user to pick the files.\n",
              "  const files = yield {\n",
              "    promise: Promise.race([pickedPromise, cancelPromise]),\n",
              "    response: {\n",
              "      action: 'starting',\n",
              "    }\n",
              "  };\n",
              "\n",
              "  cancel.remove();\n",
              "\n",
              "  // Disable the input element since further picks are not allowed.\n",
              "  inputElement.disabled = true;\n",
              "\n",
              "  if (!files) {\n",
              "    return {\n",
              "      response: {\n",
              "        action: 'complete',\n",
              "      }\n",
              "    };\n",
              "  }\n",
              "\n",
              "  for (const file of files) {\n",
              "    const li = document.createElement('li');\n",
              "    li.append(span(file.name, {fontWeight: 'bold'}));\n",
              "    li.append(span(\n",
              "        `(${file.type || 'n/a'}) - ${file.size} bytes, ` +\n",
              "        `last modified: ${\n",
              "            file.lastModifiedDate ? file.lastModifiedDate.toLocaleDateString() :\n",
              "                                    'n/a'} - `));\n",
              "    const percent = span('0% done');\n",
              "    li.appendChild(percent);\n",
              "\n",
              "    outputElement.appendChild(li);\n",
              "\n",
              "    const fileDataPromise = new Promise((resolve) => {\n",
              "      const reader = new FileReader();\n",
              "      reader.onload = (e) => {\n",
              "        resolve(e.target.result);\n",
              "      };\n",
              "      reader.readAsArrayBuffer(file);\n",
              "    });\n",
              "    // Wait for the data to be ready.\n",
              "    let fileData = yield {\n",
              "      promise: fileDataPromise,\n",
              "      response: {\n",
              "        action: 'continue',\n",
              "      }\n",
              "    };\n",
              "\n",
              "    // Use a chunked sending to avoid message size limits. See b/62115660.\n",
              "    let position = 0;\n",
              "    do {\n",
              "      const length = Math.min(fileData.byteLength - position, MAX_PAYLOAD_SIZE);\n",
              "      const chunk = new Uint8Array(fileData, position, length);\n",
              "      position += length;\n",
              "\n",
              "      const base64 = btoa(String.fromCharCode.apply(null, chunk));\n",
              "      yield {\n",
              "        response: {\n",
              "          action: 'append',\n",
              "          file: file.name,\n",
              "          data: base64,\n",
              "        },\n",
              "      };\n",
              "\n",
              "      let percentDone = fileData.byteLength === 0 ?\n",
              "          100 :\n",
              "          Math.round((position / fileData.byteLength) * 100);\n",
              "      percent.textContent = `${percentDone}% done`;\n",
              "\n",
              "    } while (position < fileData.byteLength);\n",
              "  }\n",
              "\n",
              "  // All done.\n",
              "  yield {\n",
              "    response: {\n",
              "      action: 'complete',\n",
              "    }\n",
              "  };\n",
              "}\n",
              "\n",
              "scope.google = scope.google || {};\n",
              "scope.google.colab = scope.google.colab || {};\n",
              "scope.google.colab._files = {\n",
              "  _uploadFiles,\n",
              "  _uploadFilesContinue,\n",
              "};\n",
              "})(self);\n",
              "</script> "
            ]
          },
          "metadata": {}
        },
        {
          "output_type": "stream",
          "name": "stdout",
          "text": [
            "Saving frog.png to frog (1).png\n"
          ]
        },
        {
          "output_type": "execute_result",
          "data": {
            "text/plain": [
              "{'frog.png': b'\\x89PNG\\r\\n\\x1a\\n\\x00\\x00\\x00\\rIHDR\\x00\\x00\\x02\\x00\\x00\\x00\\x02\\x00\\x08\\x02\\x00\\x00\\x00{\\x1aC\\xad\\x00\\x00\\x17\\xcfIDATx\\x01\\xed\\xdd\\xb1\\x8e\\x1ce\\xda\\x05\\xe0\\x01\\x91\"\\xed \\x82M\\xd0\\xa6\\xc6rb\\x11`\\x12\"\\xef\\x15p\\x07d\\x96\\x80;\\xd8h\\xc3\\r\\xd7\\x923\\xee\\x80;pDb\\'\\x96\\x83\\xb5\\x0c9\\xc9\\x06+f%rk\\xb5 \\xa1\\xb6T_\\x0f5S\\xdd\\xa7\\xaa\\xce\\xf3GCwM\\xbf\\xf5>\\xe7\\xfbu\\xb6\\xa5\\xee\\xf1;\\x9f>\\xfe\\xe6\\xc2\\xff\\x11 @\\x80@\\x9f\\xc0\\xbb}+\\xdb\\x98\\x00\\x01\\x02\\x04\\xfe/\\xa0\\x00\\x9c\\x03\\x02\\x04\\x08\\x94\\n(\\x80\\xd2\\xe0\\xadM\\x80\\x00\\x01\\x05\\xe0\\x0c\\x10 @\\xa0T@\\x01\\x94\\x06om\\x02\\x04\\x08(\\x00g\\x80\\x00\\x01\\x02\\xa5\\x02\\n\\xa04xk\\x13 @@\\x018\\x03\\x04\\x08\\x10(\\x15P\\x00\\xa5\\xc1[\\x9b\\x00\\x01\\x02\\n\\xc0\\x19 @\\x80@\\xa9\\x80\\x02(\\r\\xde\\xda\\x04\\x08\\x10P\\x00\\xce\\x00\\x01\\x02\\x04J\\x05\\x14@i\\xf0\\xd6&@\\x80\\x80\\x02p\\x06\\x08\\x10 P*\\xa0\\x00J\\x83\\xb76\\x01\\x02\\x04\\x14\\x803@\\x80\\x00\\x81R\\x01\\x05P\\x1a\\xbc\\xb5\\t\\x10 \\xa0\\x00\\x9c\\x01\\x02\\x04\\x08\\x94\\n(\\x80\\xd2\\xe0\\xadM\\x80\\x00\\x01\\x05\\xe0\\x0c\\x10 @\\xa0T@\\x01\\x94\\x06om\\x02\\x04\\x08(\\x00g\\x80\\x00\\x01\\x02\\xa5\\x02\\n\\xa04xk\\x13 @@\\x018\\x03\\x04\\x08\\x10(\\x15P\\x00\\xa5\\xc1[\\x9b\\x00\\x01\\x02\\n\\xc0\\x19 @\\x80@\\xa9\\x80\\x02(\\r\\xde\\xda\\x04\\x08\\x10P\\x00\\xce\\x00\\x01\\x02\\x04J\\x05\\x14@i\\xf0\\xd6&@\\x80\\x80\\x02p\\x06\\x08\\x10 P*\\xa0\\x00J\\x83\\xb76\\x01\\x02\\x04\\x14\\x803@\\x80\\x00\\x81R\\x01\\x05P\\x1a\\xbc\\xb5\\t\\x10 \\xa0\\x00\\x9c\\x01\\x02\\x04\\x08\\x94\\n(\\x80\\xd2\\xe0\\xadM\\x80\\x00\\x01\\x05\\xe0\\x0c\\x10 @\\xa0T@\\x01\\x94\\x06om\\x02\\x04\\x08(\\x00g\\x80\\x00\\x01\\x02\\xa5\\x02\\n\\xa04xk\\x13 @@\\x018\\x03\\x04\\x08\\x10(\\x15P\\x00\\xa5\\xc1[\\x9b\\x00\\x01\\x02\\n\\xc0\\x19 @\\x80@\\xa9\\x80\\x02(\\r\\xde\\xda\\x04\\x08\\x10P\\x00\\xce\\x00\\x01\\x02\\x04J\\x05\\x14@i\\xf0\\xd6&@\\x80\\x80\\x02p\\x06\\x08\\x10 P*\\xa0\\x00J\\x83\\xb76\\x01\\x02\\x04\\x14\\x803@\\x80\\x00\\x81R\\x01\\x05P\\x1a\\xbc\\xb5\\t\\x10 \\xa0\\x00\\x9c\\x01\\x02\\x04\\x08\\x94\\n(\\x80\\xd2\\xe0\\xadM\\x80\\x00\\x01\\x05\\xe0\\x0c\\x10 @\\xa0T@\\x01\\x94\\x06om\\x02\\x04\\x08(\\x00g\\x80\\x00\\x01\\x02\\xa5\\x02\\n\\xa04xk\\x13 @@\\x018\\x03\\x04\\x08\\x10(\\x15P\\x00\\xa5\\xc1[\\x9b\\x00\\x01\\x02\\n\\xc0\\x19 @\\x80@\\xa9\\x80\\x02(\\r\\xde\\xda\\x04\\x08\\x10P\\x00\\xce\\x00\\x01\\x02\\x04J\\x05\\x14@i\\xf0\\xd6&@\\x80\\x80\\x02p\\x06\\x08\\x10 P*\\xa0\\x00J\\x83\\xb76\\x01\\x02\\x04\\x14\\x803@\\x80\\x00\\x81R\\x01\\x05P\\x1a\\xbc\\xb5\\t\\x10 \\xa0\\x00\\x9c\\x01\\x02\\x04\\x08\\x94\\n(\\x80\\xd2\\xe0\\xadM\\x80\\x00\\x01\\x05\\xe0\\x0c\\x10 @\\xa0T@\\x01\\x94\\x06om\\x02\\x04\\x08(\\x00g\\x80\\x00\\x01\\x02\\xa5\\x02\\n\\xa04xk\\x13 @@\\x018\\x03\\x04\\x08\\x10(\\x15P\\x00\\xa5\\xc1[\\x9b\\x00\\x01\\x02\\n\\xc0\\x19 @\\x80@\\xa9\\x80\\x02(\\r\\xde\\xda\\x04\\x08\\x10P\\x00\\xce\\x00\\x01\\x02\\x04J\\x05\\x14@i\\xf0\\xd6&@\\x80\\x80\\x02p\\x06\\x08\\x10 P*\\xa0\\x00J\\x83\\xb76\\x01\\x02\\x04\\x14\\x803@\\x80\\x00\\x81R\\x01\\x05P\\x1a\\xbc\\xb5\\t\\x10 \\xa0\\x00\\x9c\\x01\\x02\\x04\\x08\\x94\\n(\\x80\\xd2\\xe0\\xadM\\x80\\x00\\x01\\x05\\xe0\\x0c\\x10 @\\xa0T@\\x01\\x94\\x06om\\x02\\x04\\x08(\\x00g\\x80\\x00\\x01\\x02\\xa5\\x02\\n\\xa04xk\\x13 @@\\x018\\x03\\x04\\x08\\x10(\\x15P\\x00\\xa5\\xc1[\\x9b\\x00\\x01\\x02\\n\\xc0\\x19 @\\x80@\\xa9\\x80\\x02(\\r\\xde\\xda\\x04\\x08\\x10P\\x00\\xce\\x00\\x01\\x02\\x04J\\x05\\x14@i\\xf0\\xd6&@\\x80\\x80\\x02p\\x06\\x08\\x10 P*\\xa0\\x00J\\x83\\xb76\\x01\\x02\\x04\\x14\\x803@\\x80\\x00\\x81R\\x01\\x05P\\x1a\\xbc\\xb5\\t\\x10 \\xa0\\x00\\x9c\\x01\\x02\\x04\\x08\\x94\\n(\\x80\\xd2\\xe0\\xadM\\x80\\x00\\x01\\x05\\xe0\\x0c\\x10 @\\xa0T@\\x01\\x94\\x06om\\x02\\x04\\x08(\\x00g\\x80\\x00\\x01\\x02\\xa5\\x02\\n\\xa04xk\\x13 @@\\x018\\x03\\x04\\x08\\x10(\\x15P\\x00\\xa5\\xc1[\\x9b\\x00\\x01\\x02\\n\\xc0\\x19 @\\x80@\\xa9\\x80\\x02(\\r\\xde\\xda\\x04\\x08\\x10P\\x00\\xce\\x00\\x01\\x02\\x04J\\x05\\x14@i\\xf0\\xd6&@\\x80\\x80\\x02p\\x06\\x08\\x10 P*\\xa0\\x00J\\x83\\xb76\\x01\\x02\\x04\\x14\\x803@\\x80\\x00\\x81R\\x01\\x05P\\x1a\\xbc\\xb5\\t\\x10 \\xa0\\x00\\x9c\\x01\\x02\\x04\\x08\\x94\\n(\\x80\\xd2\\xe0\\xadM\\x80\\x00\\x01\\x05\\xe0\\x0c\\x10 @\\xa0T@\\x01\\x94\\x06om\\x02\\x04\\x08(\\x00g\\x80\\x00\\x01\\x02\\xa5\\x02\\n\\xa04xk\\x13 @@\\x018\\x03\\x04\\x08\\x10(\\x15P\\x00\\xa5\\xc1[\\x9b\\x00\\x01\\x02\\n\\xc0\\x19 @\\x80@\\xa9\\x80\\x02(\\r\\xde\\xda\\x04\\x08\\x10P\\x00\\xce\\x00\\x01\\x02\\x04J\\x05\\x14@i\\xf0\\xd6&@\\x80\\x80\\x02p\\x06\\x08\\x10 P*\\xa0\\x00J\\x83\\xb76\\x01\\x02\\x04\\x14\\x803@\\x80\\x00\\x81R\\x01\\x05P\\x1a\\xbc\\xb5\\t\\x10 \\xa0\\x00\\x9c\\x01\\x02\\x04\\x08\\x94\\n(\\x80\\xd2\\xe0\\xadM\\x80\\x00\\x01\\x05\\xe0\\x0c\\x10 @\\xa0T@\\x01\\x94\\x06om\\x02\\x04\\x08(\\x00g\\x80\\x00\\x01\\x02\\xa5\\x02\\n\\xa04xk\\x13 @@\\x018\\x03\\x04\\x08\\x10(\\x15P\\x00\\xa5\\xc1[\\x9b\\x00\\x01\\x02\\n\\xc0\\x19 @\\x80@\\xa9\\x80\\x02(\\r\\xde\\xda\\x04\\x08\\x10P\\x00\\xce\\x00\\x01\\x02\\x04J\\x05\\x14@i\\xf0\\xd6&@\\x80\\x80\\x02p\\x06\\x08\\x10 P*\\xa0\\x00J\\x83\\xb76\\x01\\x02\\x04\\x14\\x803@\\x80\\x00\\x81R\\x01\\x05P\\x1a\\xbc\\xb5\\t\\x10 \\xa0\\x00\\x9c\\x01\\x02\\x04\\x08\\x94\\n(\\x80\\xd2\\xe0\\xadM\\x80\\x00\\x01\\x05\\xe0\\x0c\\x10 @\\xa0T@\\x01\\x94\\x06om\\x02\\x04\\x08(\\x00g\\x80\\x00\\x01\\x02\\xa5\\x02\\n\\xa04xk\\x13 @@\\x018\\x03\\x04\\x08\\x10(\\x15P\\x00\\xa5\\xc1[\\x9b\\x00\\x01\\x02\\n\\xc0\\x19 @\\x80@\\xa9\\x80\\x02(\\r\\xde\\xda\\x04\\x08\\x10P\\x00\\xce\\x00\\x01\\x02\\x04J\\x05\\x14@i\\xf0\\xd6&@\\x80\\x80\\x02p\\x06\\x08\\x10 P*\\xa0\\x00J\\x83\\xb76\\x01\\x02\\x04\\xdeC@\\xe06\\x02WO^\\xdf\\xe6\\xd7\\xaf\\xfd\\xdd\\xcbGw\\xaf\\xbdf\\xcd\\x17\\xf0Ys:\\xee\\xcd;\\x00g\\x80\\x00\\x01\\x02\\xa5\\x02\\n\\xa04xk\\x13 @@\\x018\\x03\\x04\\x08\\x10(\\x15P\\x00\\xa5\\xc1[\\x9b\\x00\\x01\\x02\\n\\xc0\\x19 @\\x80@\\xa9\\x80\\x02(\\r\\xde\\xda\\x04\\x08\\x10P\\x00\\xce\\x00\\x01\\x02\\x04J\\x05|\\x0f\\xa04\\xf8\\xb9k\\x0f?\\xcf~\\xff\\xcd\\xe4K]>\\xb87\\xf9\\xf8\\xdc\\x07\\x87s\\x07/t\\xea\\xef\\r\\xa4\\xee\\xe7\\xea\\xf9\\xab\\xc9\\x8dG\\xf7sj\\x87\\xc9\\x9b\\xf1\\xe0\\xe6\\x04\\xbc\\x03\\xd8\\\\dn\\x98\\x00\\x01\\x02\\xcb\\x08(\\x80e\\x1c\\xbd\\n\\x01\\x02\\x046\\'\\xa0\\x006\\x17\\x99\\x1b&@\\x80\\xc02\\x02\\n`\\x19G\\xafB\\x80\\x00\\x81\\xcd\\t(\\x80\\xcdE\\xe6\\x86\\t\\x10 \\xb0\\x8c\\x80\\x02X\\xc6\\xd1\\xab\\x10 @`s\\x02\\n`s\\x91\\xb9a\\x02\\x04\\x08,#\\xe0{\\x00\\xcb8\\xd6\\xbe\\xca\\xe8\\xf3\\xfe\\xcf\\xbe\\xf8e\\x96\\xc9g\\xdf\\xbd?y\\xfd\\xe8\\xf3\\xecs?\\x17?\\xf9\\xe27yp\\xa1\\xef=\\xcc\\xf6\\xb9\\x98\\xfe^\\xc5\\xd5\\xcb\\xd3\\xfe{\\x0c7!\\xf2;\\xdb\\x11\\xf0\\x0e`;Y\\xb9S\\x02\\x04\\x08,*\\xa0\\x00\\x16\\xe5\\xf4b\\x04\\x08\\x10\\xd8\\x8e\\x80\\x02\\xd8NV\\xee\\x94\\x00\\x01\\x02\\x8b\\n(\\x80E9\\xbd\\x18\\x01\\x02\\x04\\xb6#\\xa0\\x00\\xb6\\x93\\x95;%@\\x80\\xc0\\xa2\\x02\\n`QN/F\\x80\\x00\\x81\\xed\\x08(\\x80\\xedd\\xe5N\\t\\x10 \\xb0\\xa8\\x80\\xef\\x01,\\xca\\xd9\\xf7b\\xa3\\xcf\\xb3\\xbf\\xf9\\xf3\\xb7\\x93\\x18\\xef\\xfe\\xfb\\xcb\\xc9\\xc7G\\xaf3\\xfc~\\xc0\\xe8\\xdf\\x1bx0\\xf9\\xf2\\xb1\\x07G{\\x8dnh\\xe4\\xf6\\xec\\x8bi\\xb7;OF\\xaf\\xe4q\\x02\\xd7\\x0bx\\x07p\\xbd\\x91+\\x08\\x10 \\xb0K\\x01\\x05\\xb0\\xcbX-E\\x80\\x00\\x81\\xeb\\x05\\x14\\xc0\\xf5F\\xae @\\x80\\xc0.\\x05\\x14\\xc0.c\\xb5\\x14\\x01\\x02\\x04\\xae\\x17P\\x00\\xd7\\x1b\\xb9\\x82\\x00\\x01\\x02\\xbb\\x14P\\x00\\xbb\\x8c\\xd5R\\x04\\x08\\x10\\xb8^@\\x01\\\\o\\xe4\\n\\x02\\x04\\x08\\xecR\\xc0\\xf7\\x00v\\x19\\xeb\\xcd\\x97\\xbaz2\\xf8\\xfb\\xf2\\x83\\xbf\\x83?\\x9at\\xf7\\xde_\\'\\x9f\\xfa\\xf1\\xe9G\\x93\\x8f{\\xf07\\x81\\xd9n\\x83\\\\F9\\x8e\\xfe}\\x05\\xfe\\x9d\\x02\\xde\\x01t\\xe6nk\\x02\\x04\\x08\\\\(\\x00\\x87\\x80\\x00\\x01\\x02\\xa5\\x02\\n\\xa04xk\\x13 @@\\x018\\x03\\x04\\x08\\x10(\\x15P\\x00\\xa5\\xc1[\\x9b\\x00\\x01\\x02\\n\\xc0\\x19 @\\x80@\\xa9\\x80\\x02(\\r\\xde\\xda\\x04\\x08\\x10\\xf0=\\x00g\\xe0\\x0f\\t\\\\\\x8e\\xfe\\xfe\\xfe\\xc5/\\x7f\\xe8\\xf7\\xcfu\\xd1R\\x9f\\x7f_\\xeauN\\xbd\\xf7(\\x97\\xab\\x97\\x83\\xefs\\x9c\\xfa\\x86\\xbc\\xfe\\xa6\\x04\\xbc\\x03\\xd8T\\\\n\\x96\\x00\\x01\\x02\\xcb\\t(\\x80\\xe5,\\xbd\\x12\\x01\\x02\\x046%\\xa0\\x006\\x15\\x97\\x9b%@\\x80\\xc0r\\x02\\n`9K\\xafD\\x80\\x00\\x81M\\t(\\x80M\\xc5\\xe5f\\t\\x10 \\xb0\\x9c\\x80\\x02X\\xce\\xd2+\\x11 @`S\\x02\\n`Sq\\xb9Y\\x02\\x04\\x08,\\'\\xe0{\\x00\\xcbYn\\xea\\x95N\\xfd9\\xf7\\xd4\\xdf\\xfd_\\xea\\xef\\xdd/\\xf5:s\\x0f\\xc5Rn\\xa3\\xfb?u\\xees\\xf7u}V\\xc0;\\x80\\xac\\xbf\\xe9\\x04\\x08\\x10\\x88\\t(\\x80\\x18\\xbd\\xc1\\x04\\x08\\x10\\xc8\\n(\\x80\\xac\\xbf\\xe9\\x04\\x08\\x10\\x88\\t(\\x80\\x18\\xbd\\xc1\\x04\\x08\\x10\\xc8\\n(\\x80\\xac\\xbf\\xe9\\x04\\x08\\x10\\x88\\t(\\x80\\x18\\xbd\\xc1\\x04\\x08\\x10\\xc8\\n(\\x80\\xac\\xbf\\xe9\\x04\\x08\\x10\\x88\\t\\xbc\\xf3\\xe9\\xe3ob\\xc3\\r>\\xbd@\\xeas\\xdf\\xcf\\xbe\\x98\\xf7\\xef\\x04|\\xf6\\xdd\\xfb\\xa7\\xc7X\\xd1\\x84\\xb5\\xf9\\xa4\\xce\\xc9\\x8a\"\\xa9\\xbc\\x15\\xef\\x00*c\\xb74\\x01\\x02\\x04..\\x14\\x80S@\\x80\\x00\\x81R\\x01\\x05P\\x1a\\xbc\\xb5\\t\\x10 \\xa0\\x00\\x9c\\x01\\x02\\x04\\x08\\x94\\n(\\x80\\xd2\\xe0\\xadM\\x80\\x00\\x01\\x05\\xe0\\x0c\\x10 @\\xa0T@\\x01\\x94\\x06om\\x02\\x04\\x08\\xf8\\xf7\\x00\\x9c\\x81\\x93\\x08\\xdcy\\xf8\\xd3I^w//z\\xe7\\xc9\\xbcMF\\x7f\\xdf\\x7f\\xde\\xab\\xb8\\x9a\\xc0\\xdb\\x02\\xde\\x01\\xbc\\xed\\xe1\\xbf\\x08\\x10 P#\\xa0\\x00j\\xa2\\xb6(\\x01\\x02\\x04\\xde\\x16P\\x00o{\\xf8/\\x02\\x04\\x08\\xd4\\x08(\\x80\\x9a\\xa8-J\\x80\\x00\\x81\\xb7\\x05\\x14\\xc0\\xdb\\x1e\\xfe\\x8b\\x00\\x01\\x025\\x02\\n\\xa0&j\\x8b\\x12 @\\xe0m\\x01\\x05\\xf0\\xb6\\x87\\xff\"@\\x80@\\x8d\\x80\\xef\\x01\\xd4D}\\xbbEG\\x7f/~\\xf4\\xaa>\\xb7>\\x92\\xb9\\xd9\\xe3\\xfco\\xe6\\xe6\\xb7\\x8e\\x0bx\\x07p\\xdc\\xc7\\xb3\\x04\\x08\\x10\\xd8\\xad\\x80\\x02\\xd8m\\xb4\\x16#@\\x80\\xc0q\\x01\\x05p\\xdc\\xc7\\xb3\\x04\\x08\\x10\\xd8\\xad\\x80\\x02\\xd8m\\xb4\\x16#@\\x80\\xc0q\\x01\\x05p\\xdc\\xc7\\xb3\\x04\\x08\\x10\\xd8\\xad\\x80\\x02\\xd8m\\xb4\\x16#@\\x80\\xc0q\\x01\\x05p\\xdc\\xc7\\xb3\\x04\\x08\\x10\\xd8\\xad\\x80\\xef\\x01\\xec6\\xda\\xe3\\x8b}r\\xf7\\xfb\\xc9\\x0b\\x9e~\\xfb\\xc1\\xe4\\xe3\\x97\\x8f\\xeeM>\\xee\\xc1\\xf3\\x08\\xcc\\xfd^\\xc5\\xd5\\xf3W\\x937\\xf6\\xf0\\xcb\\x9f\\'\\x1f\\x7fz\\xf1\\xe1\\xe4\\xe3\\x1e\\xdc\\xb7\\x80w\\x00\\xfb\\xce\\xd7v\\x04\\x08\\x10\\x18\\n(\\x80!\\x8d\\'\\x08\\x10 \\xb0o\\x01\\x05\\xb0\\xef|mG\\x80\\x00\\x81\\xa1\\x80\\x02\\x18\\xd2x\\x82\\x00\\x01\\x02\\xfb\\x16P\\x00\\xfb\\xce\\xd7v\\x04\\x08\\x10\\x18\\n(\\x80!\\x8d\\'\\x08\\x10 \\xb0o\\x01\\x05\\xb0\\xef|mG\\x80\\x00\\x81\\xa1\\x80\\xef\\x01\\x0ci:\\x9f\\x18}N\\xfc\\xc5\\xebN\\x8f\\xadn=\\xcaq\\xab\\xfb\\xb8\\xef\\xd3\\x08x\\x07p\\x1aW\\xafJ\\x80\\x00\\x81\\xd5\\x0b(\\x80\\xd5G\\xe4\\x06\\t\\x10 p\\x1a\\x01\\x05p\\x1aW\\xafJ\\x80\\x00\\x81\\xd5\\x0b(\\x80\\xd5G\\xe4\\x06\\t\\x10 p\\x1a\\x01\\x05p\\x1aW\\xafJ\\x80\\x00\\x81\\xd5\\x0b(\\x80\\xd5G\\xe4\\x06\\t\\x10 p\\x1a\\x01\\x05p\\x1aW\\xafJ\\x80\\x00\\x81\\xd5\\x0b\\xf8\\x1e\\xc0\\xea#Z\\xc7\\r\\x8e\\xfe\\xfd\\x80\\x17\\xaf?_\\xc7\\r\\x96\\xde\\xc5(\\x97R\\x0ek\\xcf\\x14\\xf0\\x0e`&\\x98\\xcb\\t\\x10 \\xb0\\x17\\x01\\x05\\xb0\\x97$\\xedA\\x80\\x00\\x81\\x99\\x02\\n`&\\x98\\xcb\\t\\x10 \\xb0\\x17\\x01\\x05\\xb0\\x97$\\xedA\\x80\\x00\\x81\\x99\\x02\\n`&\\x98\\xcb\\t\\x10 \\xb0\\x17\\x01\\x05\\xb0\\x97$\\xedA\\x80\\x00\\x81\\x99\\x02\\n`&\\x98\\xcb\\t\\x10 \\xb0\\x17\\x01\\xdf\\x03\\xd8K\\x92\\x83=.\\x1f\\xdd\\x9d|\\xe6\\xe9\\xd7\\xd3\\x7f\\xe0\\xff\\xe1?\\xff3y\\xbd\\x07\\xf7!\\xf0\\xf4\\xeb\\x0f\\'\\x17\\x19\\x9d\\x93\\xc9\\x8b=\\xb8\\x1b\\x01\\xef\\x00v\\x13\\xa5E\\x08\\x10 0O@\\x01\\xcc\\xf3r5\\x01\\x02\\x04v#\\xa0\\x00v\\x13\\xa5E\\x08\\x10 0O@\\x01\\xcc\\xf3r5\\x01\\x02\\x04v#\\xa0\\x00v\\x13\\xa5E\\x08\\x10 0O@\\x01\\xcc\\xf3r5\\x01\\x02\\x04v#\\xa0\\x00v\\x13\\xa5E\\x08\\x10 0O\\xe0\\x9dO\\x1f\\x7f3\\xef7\\\\\\xbdk\\x81\\xab\\'\\xd3\\xdf\\x0f\\xf09\\xf1m\\xc5.\\xc7m\\xe5\\x95\\xba[\\xef\\x00R\\xf2\\xe6\\x12 @ ,\\xa0\\x00\\xc2\\x01\\x18O\\x80\\x00\\x81\\x94\\x80\\x02H\\xc9\\x9bK\\x80\\x00\\x81\\xb0\\x80\\x02\\x08\\x07`<\\x01\\x02\\x04R\\x02\\n %o.\\x01\\x02\\x04\\xc2\\x02\\n \\x1c\\x80\\xf1\\x04\\x08\\x10H\\t(\\x80\\x94\\xbc\\xb9\\x04\\x08\\x10\\x08\\x0b\\xf8\\xf7\\x00\\xc2\\x01le\\xfc\\xe8s\\xe5\\x17\\xf7\\xdf\\xccZ\\xe1\\xf2\\xc1\\xbdY\\xd7\\xb7]|\\xf5\\xfc\\xd5\\xbc\\x95_\\xfa\\xdfp\\xf3\\xc0\\\\}(\\xe0\\xf4\\x1cj\\xf8\\x99\\x00\\x01\\x02E\\x02\\n\\xa0(l\\xab\\x12 @\\xe0P@\\x01\\x1cj\\xf8\\x99\\x00\\x01\\x02E\\x02\\n\\xa0(l\\xab\\x12 @\\xe0P@\\x01\\x1cj\\xf8\\x99\\x00\\x01\\x02E\\x02\\n\\xa0(l\\xab\\x12 @\\xe0P@\\x01\\x1cj\\xf8\\x99\\x00\\x01\\x02E\\x02\\xbe\\x07P\\x14\\xf6\\xe1\\xaa\\xa3\\xcf\\xf5\\x9f\\xfa\\xef\\xfe\\x8f>\\xe7\\xfe\\xf0\\xcb\\x9f\\x0fo\\xef\\xf7\\x9f\\x1f\\x7f|\\xff\\xf7\\x9f\\xb7\\xf8\\xc3W?\\xbc\\x9c\\xbc\\xed\\xa7\\xdf~0\\xf9\\xf8\\xec\\xefI<\\x98|\\x99\\xe1\\x83\\xa9\\xdc\\x877\\xe4\\x89\\xa8\\x80w\\x00Q~\\xc3\\t\\x10 \\x90\\x13P\\x009{\\x93\\t\\x10 \\x10\\x15P\\x00Q~\\xc3\\t\\x10 \\x90\\x13P\\x009{\\x93\\t\\x10 \\x10\\x15P\\x00Q~\\xc3\\t\\x10 \\x90\\x13P\\x009{\\x93\\t\\x10 \\x10\\x15P\\x00Q~\\xc3\\t\\x10 \\x90\\x13\\xf0=\\x80\\x9c\\xfd\\xae\\'\\x7fr\\xf7\\xfb\\xc9\\xfd\\x1e\\x7f1\\xfa\\\\\\xff_&\\xaf\\xdf\\xfa\\x83\\xc3\\xef1\\xfccz\\xb3\\xaf~\\x98v{\\xf1\\xfa\\xf3\\xe9_\\xf0(\\x81[\\x08x\\x07p\\x0b<\\xbfJ\\x80\\x00\\x81-\\x0b(\\x80-\\xa7\\xe7\\xde\\t\\x10 p\\x0b\\x01\\x05p\\x0b<\\xbfJ\\x80\\x00\\x81-\\x0b(\\x80-\\xa7\\xe7\\xde\\t\\x10 p\\x0b\\x01\\x05p\\x0b<\\xbfJ\\x80\\x00\\x81-\\x0b(\\x80-\\xa7\\xe7\\xde\\t\\x10 p\\x0b\\x01\\x05p\\x0b<\\xbfJ\\x80\\x00\\x81-\\x0b\\xf8\\x1e\\xc0\\x96\\xd3\\xfb\\x03\\xf7\\xee\\xef\\xbf\\xff\\x01\\xa4\\xa2KF\\xff\\xde\\x83sRt\\x08\\x0eV\\xf5\\x0e\\xe0\\x00\\xc3\\x8f\\x04\\x08\\x10h\\x12P\\x00Mi\\xdb\\x95\\x00\\x01\\x02\\x07\\x02\\n\\xe0\\x00\\xc3\\x8f\\x04\\x08\\x10h\\x12P\\x00Mi\\xdb\\x95\\x00\\x01\\x02\\x07\\x02\\n\\xe0\\x00\\xc3\\x8f\\x04\\x08\\x10h\\x12P\\x00Mi\\xdb\\x95\\x00\\x01\\x02\\x07\\x02\\n\\xe0\\x00\\xc3\\x8f\\x04\\x08\\x10h\\x12\\xf0=\\x80\\x9d\\xa4\\xeds\\xdc;\\t2\\xb4\\x86\\xef\\x07\\x84\\xe0\\xc3c\\xbd\\x03\\x08\\x07`<\\x01\\x02\\x04R\\x02\\n %o.\\x01\\x02\\x04\\xc2\\x02\\n \\x1c\\x80\\xf1\\x04\\x08\\x10H\\t(\\x80\\x94\\xbc\\xb9\\x04\\x08\\x10\\x08\\x0b(\\x80p\\x00\\xc6\\x13 @ %\\xa0\\x00R\\xf2\\xe6\\x12 @ ,\\xa0\\x00\\xc2\\x01\\x18O\\x80\\x00\\x81\\x94\\x80\\xef\\x01\\xa4\\xe4o8w\\xf4y\\xff\\x8b\\xfbon\\xf8\\x8a\\xa7\\xf9\\xb5\\x17\\xaf?\\x9f~\\xe1\\x8f\\x7f\\x99~\\xdc\\xa3\\xbf\\n\\x0c\\xddR>\\x83s5:\\x87\\xa3\\xef\\x13\\xa4n\\xdf\\xdc\\xe3\\x02\\xde\\x01\\x1c\\xf7\\xf1,\\x01\\x02\\x04v+\\xa0\\x00v\\x1b\\xad\\xc5\\x08\\x10 p\\\\@\\x01\\x1c\\xf7\\xf1,\\x01\\x02\\x04v+\\xa0\\x00v\\x1b\\xad\\xc5\\x08\\x10 p\\\\@\\x01\\x1c\\xf7\\xf1,\\x01\\x02\\x04v+\\xa0\\x00v\\x1b\\xad\\xc5\\x08\\x10 p\\\\@\\x01\\x1c\\xf7\\xf1,\\x01\\x02\\x04v+\\xe0{\\x00\\xbb\\x8d\\xf6\\xb7\\xc5\\xae\\x9e\\xbf\\x9a\\xb5\\xe1\\xe5\\x83{\\xb3\\xae\\x9f{\\xf1g\\xdf\\xbd?\\xf9+\\x9f\\xdc\\xfd~\\xf2\\xf1\\xc7\\x1f\\xdf\\x9f||+\\x0f~\\xf5\\xc3\\xcb\\xc9[M}\\xde\\x7f\\xeey\\x98\\xbcy\\x0f\\xeeF\\xc0;\\x80\\xddDi\\x11\\x02\\x04\\x08\\xcc\\x13P\\x00\\xf3\\xbc\\\\M\\x80\\x00\\x81\\xdd\\x08(\\x80\\xddDi\\x11\\x02\\x04\\x08\\xcc\\x13P\\x00\\xf3\\xbc\\\\M\\x80\\x00\\x81\\xdd\\x08(\\x80\\xddDi\\x11\\x02\\x04\\x08\\xcc\\x13P\\x00\\xf3\\xbc\\\\M\\x80\\x00\\x81\\xdd\\x08(\\x80\\xddDi\\x11\\x02\\x04\\x08\\xcc\\x13\\xf0=\\x80y^\\xbb\\xbf:\\xf5w\\xdeG\\x9f\\x8b\\xbf\\xf3\\xf5\\xebI\\xf3\\x1f\\x9f~4\\xf9x\\xea\\xc1;\\x0f\\x7f\\x9a\\x1c}\\xf9h\\xf0\\xef\"L^\\xbd\\xdc\\x83\\xa3\\x1c/\\xb6\\xfd\\xb5\\x8a\\xe5\\x80\\xbc\\xd2\\xaf\\x02\\xde\\x018\\x08\\x04\\x08\\x10(\\x15P\\x00\\xa5\\xc1[\\x9b\\x00\\x01\\x02\\n\\xc0\\x19 @\\x80@\\xa9\\x80\\x02(\\r\\xde\\xda\\x04\\x08\\x10P\\x00\\xce\\x00\\x01\\x02\\x04J\\x05\\x14@i\\xf0\\xd6&@\\x80\\x80\\x02p\\x06\\x08\\x10 P*\\xe0{\\x00\\xa5\\xc1\\x9fz\\xed\\xd1\\xdf\\xf7\\x1f\\xcd\\x1d}\\x0f`t\\xfd\\xc5\\xb3\\x7f\\r\\x9f\\xca<\\xf1\\xa7YcO\\xee3\\xebn\\\\\\xdc*\\xe0\\x1d@k\\xf2\\xf6&@\\xa0^@\\x01\\xd4\\x1f\\x01\\x00\\x04\\x08\\xb4\\n(\\x80\\xd6\\xe4\\xedM\\x80@\\xbd\\x80\\x02\\xa8?\\x02\\x00\\x08\\x10h\\x15P\\x00\\xad\\xc9\\xdb\\x9b\\x00\\x81z\\x01\\x05P\\x7f\\x04\\x00\\x10 \\xd0*\\xa0\\x00Z\\x93\\xb77\\x01\\x02\\xf5\\x02\\xef|\\xfa\\xf8\\x9bz\\x84-\\x01\\x8c\\xff\\xce\\xfb\\x9b\\xd3\\xae\\xf1r\\xfa\\x7f+\\\\>\\xba;k\\xee\\xf0\\xfeg\\xbd\\xca\\xf8\\xe2\\x1f\\xff\\xfe\\xdf\\xf1\\x93\\x0b<s\\xe7o\\xf3>\\xef?w\\xe4b\\x9e\\xf7\\xb7q\\x1e\\xe6\\xfa\\xb8~Y\\x81\\xe9\\xff\\xaf^v\\x86W#@\\x80\\x00\\x81\\x15\\n(\\x80\\x15\\x86\\xe2\\x96\\x08\\x10 p\\x0e\\x01\\x05p\\x0ee3\\x08\\x10 \\xb0B\\x01\\x05\\xb0\\xc2P\\xdc\\x12\\x01\\x02\\x04\\xce!\\xa0\\x00\\xce\\xa1l\\x06\\x01\\x02\\x04V(\\xa0\\x00V\\x18\\x8a[\"@\\x80\\xc09\\x04\\x14\\xc09\\x94\\xcd @\\x80\\xc0\\n\\x05|\\x0f`\\x85\\xa1\\xdc\\xe4\\x96\\x16\\xfb|\\xfd\\xdc\\xcf\\x8f/\\xf4\\xfd\\x80\\xb9;_=\\x7f5\\xfd+\\x83\\xfb\\x99\\xfb\\xfd\\x80\\xe1\\xe7\\xfd\\x07>\\x97\\x0f\\xeeM\\xdf\\xcfB\\x8f\\x0e\\xf3\\x1d\\xdc\\xcfp\\xec\\xc0gx\\xfd\\xe0\\x89\\xb9\\xdfW\\x18\\xbc\\x8c\\x87\\xc3\\x02\\xde\\x01\\x84\\x030\\x9e\\x00\\x01\\x02)\\x01\\x05\\x90\\x927\\x97\\x00\\x01\\x02a\\x01\\x05\\x10\\x0e\\xc0x\\x02\\x04\\x08\\xa4\\x04\\x14@J\\xde\\\\\\x02\\x04\\x08\\x84\\x05\\x14@8\\x00\\xe3\\t\\x10 \\x90\\x12P\\x00)ys\\t\\x10 \\x10\\x16P\\x00\\xe1\\x00\\x8c\\'@\\x80@J\\xe0\\xbd\\xd4`s\\xcf$0\\xf7s\\xe2\\x0b\\xdd\\xd6\\xe8s\\xeb\\xa3\\xcf\\x8f\\xcf\\xbd~\\xf4\\xb9\\xfb\\xab\\x97\\xaf\\'7\\x18~\\xae\\x7f\\xf2\\xea\\xf1\\x83\\xa3\\xb9\\xa3\\xdf\\x98\\xbb\\xd7\\xe8\\xfa\\xd1\\xeb\\xcf~|\\xeeyX\\xe8{\\x03\\xb3\\xef\\xd3/\\x9cE\\xc0;\\x80\\xb30\\x1bB\\x80\\x00\\x81\\xf5\\t(\\x80\\xf5e\\xe2\\x8e\\x08\\x10 p\\x16\\x01\\x05p\\x16fC\\x08\\x10 \\xb0>\\x01\\x05\\xb0\\xbeL\\xdc\\x11\\x01\\x02\\x04\\xce\"\\xa0\\x00\\xce\\xc2l\\x08\\x01\\x02\\x04\\xd6\\'\\xa0\\x00\\xd6\\x97\\x89;\"@\\x80\\xc0Y\\x04\\x14\\xc0Y\\x98\\r!@\\x80\\xc0\\xfa\\x04\\xfc{\\x00\\xeb\\xcb\\xe4Fwt\\xf2\\xcf\\x8f\\xdf\\xe8\\xae\\xd6\\xf3K\\xa3\\xef\\x1f\\x8c\\xee\\x90\\xe7H\\xe6\\xb7\\xc7\\xe7z\\x1e\\x7f5\\xcf\\xa6\\x04\\xbc\\x03H\\xc9\\x9bK\\x80\\x00\\x81\\xb0\\x80\\x02\\x08\\x07`<\\x01\\x02\\x04R\\x02\\n %o.\\x01\\x02\\x04\\xc2\\x02\\n \\x1c\\x80\\xf1\\x04\\x08\\x10H\\t(\\x80\\x94\\xbc\\xb9\\x04\\x08\\x10\\x08\\x0b(\\x80p\\x00\\xc6\\x13 @ %\\xa0\\x00R\\xf2\\xe6\\x12 @ ,\\xe0{\\x00\\xe1\\x00\\x8c\\'@\\x80@J\\xc0;\\x80\\x94\\xbc\\xb9\\x04\\x08\\x10\\x08\\x0b(\\x80p\\x00\\xc6\\x13 @ %\\xa0\\x00R\\xf2\\xe6\\x12 @ ,\\xa0\\x00\\xc2\\x01\\x18O\\x80\\x00\\x81\\x94\\x80\\x02H\\xc9\\x9bK\\x80\\x00\\x81\\xb0\\x80\\x02\\x08\\x07`<\\x01\\x02\\x04R\\x02\\n %o.\\x01\\x02\\x04\\xc2\\x02\\n \\x1c\\x80\\xf1\\x04\\x08\\x10H\\t(\\x80\\x94\\xbc\\xb9\\x04\\x08\\x10\\x08\\x0b(\\x80p\\x00\\xc6\\x13 @ %\\xa0\\x00R\\xf2\\xe6\\x12 @ ,\\xa0\\x00\\xc2\\x01\\x18O\\x80\\x00\\x81\\x94\\x80\\x02H\\xc9\\x9bK\\x80\\x00\\x81\\xb0\\x80\\x02\\x08\\x07`<\\x01\\x02\\x04R\\x02\\n %o.\\x01\\x02\\x04\\xc2\\x02\\n \\x1c\\x80\\xf1\\x04\\x08\\x10H\\t(\\x80\\x94\\xbc\\xb9\\x04\\x08\\x10\\x08\\x0b(\\x80p\\x00\\xc6\\x13 @ %\\xa0\\x00R\\xf2\\xe6\\x12 @ ,\\xa0\\x00\\xc2\\x01\\x18O\\x80\\x00\\x81\\x94\\x80\\x02H\\xc9\\x9bK\\x80\\x00\\x81\\xb0\\x80\\x02\\x08\\x07`<\\x01\\x02\\x04R\\x02\\n %o.\\x01\\x02\\x04\\xc2\\x02\\n \\x1c\\x80\\xf1\\x04\\x08\\x10H\\t(\\x80\\x94\\xbc\\xb9\\x04\\x08\\x10\\x08\\x0b(\\x80p\\x00\\xc6\\x13 @ %\\xa0\\x00R\\xf2\\xe6\\x12 @ ,\\xa0\\x00\\xc2\\x01\\x18O\\x80\\x00\\x81\\x94\\x80\\x02H\\xc9\\x9bK\\x80\\x00\\x81\\xb0\\x80\\x02\\x08\\x07`<\\x01\\x02\\x04R\\x02\\n %o.\\x01\\x02\\x04\\xc2\\x02\\n \\x1c\\x80\\xf1\\x04\\x08\\x10H\\t(\\x80\\x94\\xbc\\xb9\\x04\\x08\\x10\\x08\\x0b(\\x80p\\x00\\xc6\\x13 @ %\\xa0\\x00R\\xf2\\xe6\\x12 @ ,\\xa0\\x00\\xc2\\x01\\x18O\\x80\\x00\\x81\\x94\\x80\\x02H\\xc9\\x9bK\\x80\\x00\\x81\\xb0\\x80\\x02\\x08\\x07`<\\x01\\x02\\x04R\\x02\\n %o.\\x01\\x02\\x04\\xc2\\x02\\n \\x1c\\x80\\xf1\\x04\\x08\\x10H\\t(\\x80\\x94\\xbc\\xb9\\x04\\x08\\x10\\x08\\x0b(\\x80p\\x00\\xc6\\x13 @ %\\xa0\\x00R\\xf2\\xe6\\x12 @ ,\\xa0\\x00\\xc2\\x01\\x18O\\x80\\x00\\x81\\x94\\x80\\x02H\\xc9\\x9bK\\x80\\x00\\x81\\xb0\\x80\\x02\\x08\\x07`<\\x01\\x02\\x04R\\x02\\n %o.\\x01\\x02\\x04\\xc2\\x02\\n \\x1c\\x80\\xf1\\x04\\x08\\x10H\\t(\\x80\\x94\\xbc\\xb9\\x04\\x08\\x10\\x08\\x0b(\\x80p\\x00\\xc6\\x13 @ %\\xa0\\x00R\\xf2\\xe6\\x12 @ ,\\xa0\\x00\\xc2\\x01\\x18O\\x80\\x00\\x81\\x94\\x80\\x02H\\xc9\\x9bK\\x80\\x00\\x81\\xb0\\x80\\x02\\x08\\x07`<\\x01\\x02\\x04R\\x02\\n %o.\\x01\\x02\\x04\\xc2\\x02\\n \\x1c\\x80\\xf1\\x04\\x08\\x10H\\t(\\x80\\x94\\xbc\\xb9\\x04\\x08\\x10\\x08\\x0b(\\x80p\\x00\\xc6\\x13 @ %\\xa0\\x00R\\xf2\\xe6\\x12 @ ,\\xa0\\x00\\xc2\\x01\\x18O\\x80\\x00\\x81\\x94\\x80\\x02H\\xc9\\x9bK\\x80\\x00\\x81\\xb0\\x80\\x02\\x08\\x07`<\\x01\\x02\\x04R\\x02\\n %o.\\x01\\x02\\x04\\xc2\\x02\\n \\x1c\\x80\\xf1\\x04\\x08\\x10H\\t(\\x80\\x94\\xbc\\xb9\\x04\\x08\\x10\\x08\\x0b(\\x80p\\x00\\xc6\\x13 @ %\\xa0\\x00R\\xf2\\xe6\\x12 @ ,\\xa0\\x00\\xc2\\x01\\x18O\\x80\\x00\\x81\\x94\\x80\\x02H\\xc9\\x9bK\\x80\\x00\\x81\\xb0\\x80\\x02\\x08\\x07`<\\x01\\x02\\x04R\\x02\\n %o.\\x01\\x02\\x04\\xc2\\x02\\n \\x1c\\x80\\xf1\\x04\\x08\\x10H\\t(\\x80\\x94\\xbc\\xb9\\x04\\x08\\x10\\x08\\x0b(\\x80p\\x00\\xc6\\x13 @ %\\xa0\\x00R\\xf2\\xe6\\x12 @ ,\\xa0\\x00\\xc2\\x01\\x18O\\x80\\x00\\x81\\x94\\x80\\x02H\\xc9\\x9bK\\x80\\x00\\x81\\xb0\\x80\\x02\\x08\\x07`<\\x01\\x02\\x04R\\x02\\n %o.\\x01\\x02\\x04\\xc2\\x02\\n \\x1c\\x80\\xf1\\x04\\x08\\x10H\\t(\\x80\\x94\\xbc\\xb9\\x04\\x08\\x10\\x08\\x0b(\\x80p\\x00\\xc6\\x13 @ %\\xa0\\x00R\\xf2\\xe6\\x12 @ ,\\xa0\\x00\\xc2\\x01\\x18O\\x80\\x00\\x81\\x94\\x80\\x02H\\xc9\\x9bK\\x80\\x00\\x81\\xb0\\x80\\x02\\x08\\x07`<\\x01\\x02\\x04R\\x02\\n %o.\\x01\\x02\\x04\\xc2\\x02\\n \\x1c\\x80\\xf1\\x04\\x08\\x10H\\t(\\x80\\x94\\xbc\\xb9\\x04\\x08\\x10\\x08\\x0b(\\x80p\\x00\\xc6\\x13 @ %\\xa0\\x00R\\xf2\\xe6\\x12 @ ,\\xa0\\x00\\xc2\\x01\\x18O\\x80\\x00\\x81\\x94\\x80\\x02H\\xc9\\x9bK\\x80\\x00\\x81\\xb0\\x80\\x02\\x08\\x07`<\\x01\\x02\\x04R\\x02\\n %o.\\x01\\x02\\x04\\xc2\\x02\\n \\x1c\\x80\\xf1\\x04\\x08\\x10H\\t(\\x80\\x94\\xbc\\xb9\\x04\\x08\\x10\\x08\\x0b(\\x80p\\x00\\xc6\\x13 @ %\\xa0\\x00R\\xf2\\xe6\\x12 @ ,\\xa0\\x00\\xc2\\x01\\x18O\\x80\\x00\\x81\\x94\\x80\\x02H\\xc9\\x9bK\\x80\\x00\\x81\\xb0\\x80\\x02\\x08\\x07`<\\x01\\x02\\x04R\\x02\\n %o.\\x01\\x02\\x04\\xc2\\x02\\n \\x1c\\x80\\xf1\\x04\\x08\\x10H\\t(\\x80\\x94\\xbc\\xb9\\x04\\x08\\x10\\x08\\x0b(\\x80p\\x00\\xc6\\x13 @ %\\xa0\\x00R\\xf2\\xe6\\x12 @ ,\\xa0\\x00\\xc2\\x01\\x18O\\x80\\x00\\x81\\x94\\x80\\x02H\\xc9\\x9bK\\x80\\x00\\x81\\xb0\\x80\\x02\\x08\\x07`<\\x01\\x02\\x04R\\x02\\n %o.\\x01\\x02\\x04\\xc2\\x02\\n \\x1c\\x80\\xf1\\x04\\x08\\x10H\\t(\\x80\\x94\\xbc\\xb9\\x04\\x08\\x10\\x08\\x0b(\\x80p\\x00\\xc6\\x13 @ %\\xa0\\x00R\\xf2\\xe6\\x12 @ ,\\xa0\\x00\\xc2\\x01\\x18O\\x80\\x00\\x81\\x94\\x80\\x02H\\xc9\\x9bK\\x80\\x00\\x81\\xb0\\x80\\x02\\x08\\x07`<\\x01\\x02\\x04R\\x02\\n %o.\\x01\\x02\\x04\\xc2\\x02\\n \\x1c\\x80\\xf1\\x04\\x08\\x10H\\t(\\x80\\x94\\xbc\\xb9\\x04\\x08\\x10\\x08\\x0b(\\x80p\\x00\\xc6\\x13 @ %\\xa0\\x00R\\xf2\\xe6\\x12 @ ,\\xa0\\x00\\xc2\\x01\\x18O\\x80\\x00\\x81\\x94\\x80\\x02H\\xc9\\x9bK\\x80\\x00\\x81\\xb0\\x80\\x02\\x08\\x07`<\\x01\\x02\\x04R\\x02\\n %o.\\x01\\x02\\x04\\xc2\\x02\\xff\\x03\\xde\\xe5)\\tDk\\xbbW\\x00\\x00\\x00\\x00IEND\\xaeB`\\x82'}"
            ]
          },
          "metadata": {},
          "execution_count": 89
        }
      ]
    },
    {
      "cell_type": "markdown",
      "source": [
        "Проверяем загрузку файлов"
      ],
      "metadata": {
        "id": "S1t5c_GzGWtj"
      }
    },
    {
      "cell_type": "code",
      "source": [
        "!ls"
      ],
      "metadata": {
        "colab": {
          "base_uri": "https://localhost:8080/"
        },
        "id": "T1F9eOA0GY2l",
        "outputId": "13072ecc-379c-4839-ef58-8cb23af78455"
      },
      "execution_count": 90,
      "outputs": [
        {
          "output_type": "stream",
          "name": "stdout",
          "text": [
            " cifar10_model.h5    'frog (1).png'   sample_data\n",
            " cifar10_model.json   frog.png\t      ship.png\n"
          ]
        }
      ]
    },
    {
      "cell_type": "markdown",
      "source": [
        "Смотрим загруженную картинку"
      ],
      "metadata": {
        "id": "5DQaTBgSGd9y"
      }
    },
    {
      "cell_type": "code",
      "source": [
        "img_path = 'frog.png'\n",
        "img = tf.keras.utils.load_img(img_path, target_size=(32, 32))\n",
        "img_arr = np.array(img)\n",
        "plt.imshow(img_arr)\n",
        "plt.show()"
      ],
      "metadata": {
        "colab": {
          "base_uri": "https://localhost:8080/",
          "height": 266
        },
        "id": "t9yo7EISGgCW",
        "outputId": "e9c9f0ee-7c60-4835-9343-6959d2228ffc"
      },
      "execution_count": 92,
      "outputs": [
        {
          "output_type": "display_data",
          "data": {
            "text/plain": [
              "<Figure size 432x288 with 1 Axes>"
            ],
            "image/png": "[encoded data removed]"
          },
          "metadata": {
            "needs_background": "light"
          }
        }
      ]
    },
    {
      "cell_type": "code",
      "source": [
        "img_arr = img_arr.astype('float32')\n",
        "img_arr /= 255"
      ],
      "metadata": {
        "id": "CViBv3HeHkda"
      },
      "execution_count": 93,
      "outputs": []
    },
    {
      "cell_type": "code",
      "source": [
        "my_x = img_arr\n",
        "my_x = np.expand_dims(my_x, axis=0)"
      ],
      "metadata": {
        "id": "DKOGEL2LIYyc"
      },
      "execution_count": 94,
      "outputs": []
    },
    {
      "cell_type": "code",
      "source": [
        "prediction = model.predict(my_x)"
      ],
      "metadata": {
        "colab": {
          "base_uri": "https://localhost:8080/"
        },
        "id": "fpW9DZ34IejJ",
        "outputId": "1a1a4a65-618e-4067-91c5-45ca921dcd70"
      },
      "execution_count": 95,
      "outputs": [
        {
          "output_type": "stream",
          "name": "stdout",
          "text": [
            "1/1 [==============================] - 0s 21ms/step\n"
          ]
        }
      ]
    },
    {
      "cell_type": "code",
      "source": [
        "print(prediction)"
      ],
      "metadata": {
        "colab": {
          "base_uri": "https://localhost:8080/"
        },
        "id": "JQjkj4AaIhUu",
        "outputId": "f00d540d-6bb8-4467-93db-b949142e79aa"
      },
      "execution_count": 96,
      "outputs": [
        {
          "output_type": "stream",
          "name": "stdout",
          "text": [
            "[[1.3217206e-02 5.2192120e-04 6.0302014e-03 2.4568082e-03 5.3251901e-05\n",
            "  2.6380052e-04 9.0830910e-01 1.0579365e-07 6.8681918e-02 4.6572546e-04]]\n"
          ]
        }
      ]
    },
    {
      "cell_type": "code",
      "source": [
        "prediction = np.argmax(prediction)"
      ],
      "metadata": {
        "id": "ID2gJNgvIzuF"
      },
      "execution_count": 97,
      "outputs": []
    },
    {
      "cell_type": "code",
      "source": [
        "print(classes[prediction])"
      ],
      "metadata": {
        "colab": {
          "base_uri": "https://localhost:8080/"
        },
        "id": "Ik2-9VOSQ5PR",
        "outputId": "a5f11e66-485b-488b-d24b-2b6351a92b27"
      },
      "execution_count": 98,
      "outputs": [
        {
          "output_type": "stream",
          "name": "stdout",
          "text": [
            "лягушка\n"
          ]
        }
      ]
    }
  ]
}