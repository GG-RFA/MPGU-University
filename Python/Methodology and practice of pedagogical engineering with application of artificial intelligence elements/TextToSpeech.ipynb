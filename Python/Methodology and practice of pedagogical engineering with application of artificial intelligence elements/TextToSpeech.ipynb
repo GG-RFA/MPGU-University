{
  "nbformat": 4,
  "nbformat_minor": 0,
  "metadata": {
    "colab": {
      "provenance": []
    },
    "kernelspec": {
      "name": "python3",
      "display_name": "Python 3"
    },
    "language_info": {
      "name": "python"
    }
  },
  "cells": [
    {
      "cell_type": "markdown",
      "source": [
        "Устанавливаем необходимые библиотеки"
      ],
      "metadata": {
        "id": "DjThVn0OJHmX"
      }
    },
    {
      "cell_type": "code",
      "source": [
        "!pip install pydub\n",
        "!pip install SpeechRecognition\n",
        "!pip install gTTS\n",
        "!pip install translate\n",
        "!pip install telebot"
      ],
      "metadata": {
        "colab": {
          "base_uri": "https://localhost:8080/"
        },
        "id": "H4TDDqBRPN5r",
        "outputId": "03636afc-652b-4198-ba97-737647fac861"
      },
      "execution_count": null,
      "outputs": [
        {
          "output_type": "stream",
          "name": "stdout",
          "text": [
            "Requirement already satisfied: pydub in /usr/local/lib/python3.10/dist-packages (0.25.1)\n",
            "Requirement already satisfied: SpeechRecognition in /usr/local/lib/python3.10/dist-packages (3.10.0)\n",
            "Requirement already satisfied: requests>=2.26.0 in /usr/local/lib/python3.10/dist-packages (from SpeechRecognition) (2.31.0)\n",
            "Requirement already satisfied: charset-normalizer<4,>=2 in /usr/local/lib/python3.10/dist-packages (from requests>=2.26.0->SpeechRecognition) (3.3.0)\n",
            "Requirement already satisfied: idna<4,>=2.5 in /usr/local/lib/python3.10/dist-packages (from requests>=2.26.0->SpeechRecognition) (3.4)\n",
            "Requirement already satisfied: urllib3<3,>=1.21.1 in /usr/local/lib/python3.10/dist-packages (from requests>=2.26.0->SpeechRecognition) (2.0.7)\n",
            "Requirement already satisfied: certifi>=2017.4.17 in /usr/local/lib/python3.10/dist-packages (from requests>=2.26.0->SpeechRecognition) (2023.7.22)\n",
            "Requirement already satisfied: gTTS in /usr/local/lib/python3.10/dist-packages (2.4.0)\n",
            "Requirement already satisfied: requests<3,>=2.27 in /usr/local/lib/python3.10/dist-packages (from gTTS) (2.31.0)\n",
            "Requirement already satisfied: click<8.2,>=7.1 in /usr/local/lib/python3.10/dist-packages (from gTTS) (8.1.7)\n",
            "Requirement already satisfied: charset-normalizer<4,>=2 in /usr/local/lib/python3.10/dist-packages (from requests<3,>=2.27->gTTS) (3.3.0)\n",
            "Requirement already satisfied: idna<4,>=2.5 in /usr/local/lib/python3.10/dist-packages (from requests<3,>=2.27->gTTS) (3.4)\n",
            "Requirement already satisfied: urllib3<3,>=1.21.1 in /usr/local/lib/python3.10/dist-packages (from requests<3,>=2.27->gTTS) (2.0.7)\n",
            "Requirement already satisfied: certifi>=2017.4.17 in /usr/local/lib/python3.10/dist-packages (from requests<3,>=2.27->gTTS) (2023.7.22)\n",
            "Requirement already satisfied: translate in /usr/local/lib/python3.10/dist-packages (3.6.1)\n",
            "Requirement already satisfied: click in /usr/local/lib/python3.10/dist-packages (from translate) (8.1.7)\n",
            "Requirement already satisfied: lxml in /usr/local/lib/python3.10/dist-packages (from translate) (4.9.3)\n",
            "Requirement already satisfied: requests in /usr/local/lib/python3.10/dist-packages (from translate) (2.31.0)\n",
            "Requirement already satisfied: libretranslatepy==2.1.1 in /usr/local/lib/python3.10/dist-packages (from translate) (2.1.1)\n",
            "Requirement already satisfied: charset-normalizer<4,>=2 in /usr/local/lib/python3.10/dist-packages (from requests->translate) (3.3.0)\n",
            "Requirement already satisfied: idna<4,>=2.5 in /usr/local/lib/python3.10/dist-packages (from requests->translate) (3.4)\n",
            "Requirement already satisfied: urllib3<3,>=1.21.1 in /usr/local/lib/python3.10/dist-packages (from requests->translate) (2.0.7)\n",
            "Requirement already satisfied: certifi>=2017.4.17 in /usr/local/lib/python3.10/dist-packages (from requests->translate) (2023.7.22)\n",
            "Collecting telebot\n",
            "  Downloading telebot-0.0.5-py3-none-any.whl (4.8 kB)\n",
            "Collecting pyTelegramBotAPI (from telebot)\n",
            "  Downloading pyTelegramBotAPI-4.14.0.tar.gz (243 kB)\n",
            "\u001b[2K     \u001b[90m━━━━━━━━━━━━━━━━━━━━━━━━━━━━━━━━━━━━━━━━\u001b[0m \u001b[32m243.1/243.1 kB\u001b[0m \u001b[31m5.0 MB/s\u001b[0m eta \u001b[36m0:00:00\u001b[0m\n",
            "\u001b[?25h  Preparing metadata (setup.py) ... \u001b[?25l\u001b[?25hdone\n",
            "Requirement already satisfied: requests in /usr/local/lib/python3.10/dist-packages (from telebot) (2.31.0)\n",
            "Requirement already satisfied: charset-normalizer<4,>=2 in /usr/local/lib/python3.10/dist-packages (from requests->telebot) (3.3.0)\n",
            "Requirement already satisfied: idna<4,>=2.5 in /usr/local/lib/python3.10/dist-packages (from requests->telebot) (3.4)\n",
            "Requirement already satisfied: urllib3<3,>=1.21.1 in /usr/local/lib/python3.10/dist-packages (from requests->telebot) (2.0.7)\n",
            "Requirement already satisfied: certifi>=2017.4.17 in /usr/local/lib/python3.10/dist-packages (from requests->telebot) (2023.7.22)\n",
            "Building wheels for collected packages: pyTelegramBotAPI\n",
            "  Building wheel for pyTelegramBotAPI (setup.py) ... \u001b[?25l\u001b[?25hdone\n",
            "  Created wheel for pyTelegramBotAPI: filename=pyTelegramBotAPI-4.14.0-py3-none-any.whl size=215251 sha256=0f25ec899354132269714528eb5ca892354c16b94aceb29c28db8ffd2191b38b\n",
            "  Stored in directory: /root/.cache/pip/wheels/25/51/2d/24b40a366c85c37928d5aa36ddf257e5a79fad25e1ecd11b2c\n",
            "Successfully built pyTelegramBotAPI\n",
            "Installing collected packages: pyTelegramBotAPI, telebot\n",
            "Successfully installed pyTelegramBotAPI-4.14.0 telebot-0.0.5\n"
          ]
        }
      ]
    },
    {
      "cell_type": "markdown",
      "source": [
        "Реализуем функционал бота"
      ],
      "metadata": {
        "id": "eosjQUw-ktP0"
      }
    },
    {
      "cell_type": "code",
      "source": [
        "# импортируем необходимые библиотеки\n",
        "import telebot\n",
        "import os\n",
        "import speech_recognition\n",
        "from pydub import AudioSegment\n",
        "from translate import Translator\n",
        "from gtts import gTTS\n",
        "from telebot import types\n",
        "# задаём токен созданного бота в Telegram\n",
        "bot = telebot.TeleBot('6701808341:AAEBGPCWTB3DiHZo3P2gjgB1VJ-VzZn15kI')\n",
        "\n",
        "# Создаём \"словарь\", хранящий язык перевода для каждого пользователя\n",
        "user_language = {}\n",
        "\n",
        "# Создаём функцию, начинающую диалог с пользователем\n",
        "@bot.message_handler(commands=['start'])\n",
        "def start(message):\n",
        "    # Устанавливаем язык перевода как None\n",
        "    user_language[message.chat.id] = None\n",
        "    # Вызываем функцию, запрашивающую у пользователя язык перевода\n",
        "    ask_for_translation(message)\n",
        "\n",
        "# Создаём функцию, выводящую подсказку\n",
        "@bot.message_handler(commands=['help'])\n",
        "def help(message):\n",
        "    bot.reply_to(message, \"Я - бот, конвертирующий текстовые сообщения в голосовые с переводом на другой язык. Я могу обратотать текст, написанный на английском языке. Отправьте мне текст, который хотите конвертировать и перевести.\")\n",
        "\n",
        "# Создаём функцию, запрашивающую у пользователя язык перевода\n",
        "def ask_for_translation(message):\n",
        "    # Создаём клавиатуру с возможностью выбора только одного варианта\n",
        "    markup = types.ReplyKeyboardMarkup(one_time_keyboard=True)\n",
        "    item_ru = types.KeyboardButton('Русский')\n",
        "    item_sr = types.KeyboardButton('Сербский')\n",
        "    item_zh = types.KeyboardButton('Китайский')\n",
        "    item_de = types.KeyboardButton('Немецкий')\n",
        "    item_pl = types.KeyboardButton('Польский')\n",
        "    item_ja = types.KeyboardButton('Японский')\n",
        "    item_fr = types.KeyboardButton('Французский')\n",
        "    item_es = types.KeyboardButton('Испанский')\n",
        "    item_it = types.KeyboardButton('Итальянский')\n",
        "    item_el = types.KeyboardButton('Греческий')\n",
        "    item_ko = types.KeyboardButton('Корейский')\n",
        "    item_bs = types.KeyboardButton('Боснийский')\n",
        "    markup.add(item_ru, item_sr, item_zh, item_de, item_pl, item_ja, item_fr, item_es, item_it, item_el, item_ko, item_bs)\n",
        "    # Отправляем сообщение с запросом языка перевода и клавиатурой\n",
        "    bot.send_message(message.chat.id, 'На какой язык Вы хотите перевести текст?', reply_markup=markup)\n",
        "    # Регистрируем следующий шаг, т.е. получение выбранного пользователем языка перевода\n",
        "    bot.register_next_step_handler(message, get_user_language)\n",
        "\n",
        "# Создаём функцию для получения выбранного пользователем языка перевода\n",
        "def get_user_language(message):\n",
        "    # Задаём условия, если пользователь выбрал тот или иной язык\n",
        "    if message.text.lower() == 'русский':\n",
        "        user_language[message.chat.id] = 'ru'\n",
        "    elif message.text.lower() == 'сербский':\n",
        "        user_language[message.chat.id] = 'sr'\n",
        "    elif message.text.lower() == 'китайский':\n",
        "        user_language[message.chat.id] = 'zh'\n",
        "    elif message.text.lower() == 'немецкий':\n",
        "        user_language[message.chat.id] = 'de'\n",
        "    elif message.text.lower() == 'польский':\n",
        "        user_language[message.chat.id] = 'pl'\n",
        "    elif message.text.lower() == 'японский':\n",
        "        user_language[message.chat.id] = 'ja'\n",
        "    elif message.text.lower() == 'французский':\n",
        "        user_language[message.chat.id] = 'fr'\n",
        "    elif message.text.lower() == 'испанский':\n",
        "        user_language[message.chat.id] = 'es'\n",
        "    elif message.text.lower() == 'итальянский':\n",
        "        user_language[message.chat.id] = 'it'\n",
        "    elif message.text.lower() == 'греческий':\n",
        "        user_language[message.chat.id] = 'el'\n",
        "    elif message.text.lower() == 'корейский':\n",
        "        user_language[message.chat.id] = 'ko'\n",
        "    elif message.text.lower() == 'боснийский':\n",
        "        user_language[message.chat.id] = 'bs'\n",
        "    # Если пользователь ввёл некорректное значение, то выводим сообщение\n",
        "    else:\n",
        "        bot.send_message(message.chat.id, 'Пожалуйста, выберите язык из представленного списка.')\n",
        "        # Вызываем функцию, запрашивающую у пользователя язык перевода\n",
        "        ask_for_translation(message)\n",
        "\n",
        "    # Отправляем сообщение с просьбой отправить текстовое сообщение\n",
        "    bot.send_message(message.chat.id, 'Пожалуйста, отправьте текстовое сообщение.')\n",
        "\n",
        "@bot.message_handler(content_types=['text'])\n",
        "def translate_text_to_voice(message):\n",
        "  # Если язык перевода не был установлен, то вызываем функцию, запрашивающую у пользователя язык перевода\n",
        "  if user_language.get(message.chat.id) is None:\n",
        "        ask_for_translation(message)\n",
        "  else:\n",
        "        text = message.text\n",
        "        # Создаём объект переводчика на выбранный пользователем язык перевода\n",
        "        translator = Translator(to_lang=user_language[message.chat.id])\n",
        "        # Переводим текст на выбранный пользователем язык\n",
        "        translation = translator.translate(text)\n",
        "        # Создаём объект синтезатора речи на выбранном пользователем языке\n",
        "        tts = gTTS(text=translation, lang=user_language[message.chat.id])\n",
        "        # Сохраняем синтезированный голос в файл\n",
        "        tts.save(\"voice.mp3\")\n",
        "        # Открываем файл с синтезированным голосом для чтения в двоичном режиме\n",
        "        audio = open(\"voice.mp3\", \"rb\")\n",
        "        # Отправляем голосовое сообщение с синтезированным голосом\n",
        "        bot.send_voice(message.chat.id, audio)\n",
        "        # Удаляем временный файл с синтезированным голосом\n",
        "        os.remove(\"voice.mp3\")\n",
        "# запускаем бота\n",
        "bot.polling()"
      ],
      "metadata": {
        "id": "sUtjZ1mvSYn0"
      },
      "execution_count": null,
      "outputs": []
    }
  ]
}