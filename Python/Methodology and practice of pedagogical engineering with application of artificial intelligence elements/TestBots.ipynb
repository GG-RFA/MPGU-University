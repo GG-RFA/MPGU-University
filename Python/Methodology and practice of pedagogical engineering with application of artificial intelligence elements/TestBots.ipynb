{
  "nbformat": 4,
  "nbformat_minor": 0,
  "metadata": {
    "colab": {
      "provenance": [],
      "collapsed_sections": [
        "mnlZI95c1ITk",
        "HJUK1O9312oh",
        "24I3RrlW3XsG",
        "aXP5X2Pw3fbe",
        "NRXqFpHV45xf",
        "xV50_8l5lU-U",
        "PksPaBjJVac3"
      ]
    },
    "kernelspec": {
      "name": "python3",
      "display_name": "Python 3"
    },
    "language_info": {
      "name": "python"
    }
  },
  "cells": [
    {
      "cell_type": "markdown",
      "source": [
        "## **1. Запустим первую версию бота**"
      ],
      "metadata": {
        "id": "mnlZI95c1ITk"
      }
    },
    {
      "cell_type": "markdown",
      "source": [
        "Скачиваем библиотеки"
      ],
      "metadata": {
        "id": "HWfrdf791RCO"
      }
    },
    {
      "cell_type": "code",
      "source": [
        "!pip3 install pytelegrambotapi"
      ],
      "metadata": {
        "id": "ukaN4MAX1NK7",
        "colab": {
          "base_uri": "https://localhost:8080/"
        },
        "outputId": "815023d8-68cd-4a0f-89a5-3cbab77f6fb6"
      },
      "execution_count": null,
      "outputs": [
        {
          "output_type": "stream",
          "name": "stdout",
          "text": [
            "Requirement already satisfied: pytelegrambotapi in /usr/local/lib/python3.10/dist-packages (4.14.0)\n",
            "Requirement already satisfied: requests in /usr/local/lib/python3.10/dist-packages (from pytelegrambotapi) (2.31.0)\n",
            "Requirement already satisfied: charset-normalizer<4,>=2 in /usr/local/lib/python3.10/dist-packages (from requests->pytelegrambotapi) (3.3.0)\n",
            "Requirement already satisfied: idna<4,>=2.5 in /usr/local/lib/python3.10/dist-packages (from requests->pytelegrambotapi) (3.4)\n",
            "Requirement already satisfied: urllib3<3,>=1.21.1 in /usr/local/lib/python3.10/dist-packages (from requests->pytelegrambotapi) (2.0.6)\n",
            "Requirement already satisfied: certifi>=2017.4.17 in /usr/local/lib/python3.10/dist-packages (from requests->pytelegrambotapi) (2023.7.22)\n"
          ]
        }
      ]
    },
    {
      "cell_type": "code",
      "source": [
        "import telebot\n",
        "# Здесь нужно вставить токен, который дал BotFather при регистрации\n",
        "# Пример: token = '5880107702:AAGKicINDRKjNaQVooWtlZT1uqXvnRd9U'\n",
        "token = '5880107702:AAGKicINDRfRKjNaQVooWtlZT1uqXvnRd9U'  # <<< Ваш токен\n",
        "\n",
        "# В этой строчке мы заводим бота и даем ему запомнить токен\n",
        "bot = telebot.TeleBot(token)\n",
        "\n",
        "# Пишем первую функцию, которая отвечает \"Привет\" на команду /start\n",
        "# Все функции общения приложения с ТГ спрятаны в функции под @\n",
        "@bot.message_handler(commands=['start'])\n",
        "def say_hi(message):\n",
        "    # Функция, отправляющая \"Привет\" в ответ на команду /start\n",
        "    bot.send_message(message.chat.id, 'Привет')\n",
        "\n",
        "# Запускаем бота. Он будет работать до тех пор, пока работает ячейка (крутится значок слева).\n",
        "# Остановим ячейку - остановится бот\n",
        "bot.polling()"
      ],
      "metadata": {
        "id": "l4dRr-HC0G2D"
      },
      "execution_count": null,
      "outputs": []
    },
    {
      "cell_type": "markdown",
      "source": [
        "## **2. Бот отвечает на вопросы**\n",
        "\n"
      ],
      "metadata": {
        "id": "HJUK1O9312oh"
      }
    },
    {
      "cell_type": "code",
      "source": [
        "# Замените 'YOUR_BOT_TOKEN' на токен вашего Telegram-бота\n",
        "bot = telebot.TeleBot('5880107702:AAGKicINDRfRKjNaQVooWtlZT1uqXvnRd9U')\n",
        "\n",
        "# Обработчик для команды /start\n",
        "@bot.message_handler(commands=['start'])\n",
        "def handle_start(message):\n",
        "    bot.send_message(message.chat.id, 'Привет! Я ваш бот. Чем я могу вам помочь?')\n",
        "\n",
        "# Обработчик для получения текстовых сообщений\n",
        "@bot.message_handler(func=lambda message: True)\n",
        "def handle_text(message):\n",
        "    user_message = message.text\n",
        "    response = generate_response(user_message)\n",
        "    bot.send_message(message.chat.id, response)\n",
        "\n",
        "# Генерация ответа на вопрос\n",
        "def generate_response(user_message):\n",
        "    user_message = user_message.lower()\n",
        "\n",
        "    if 'как дела' in user_message:\n",
        "        return 'У меня всё хорошо, спасибо! А как у вас?'\n",
        "\n",
        "    if 'погода' in user_message:\n",
        "        return 'Сегодня на улице пасмурно'\n",
        "\n",
        "    if 'что делаешь' in user_message:\n",
        "        return 'Я отвечаю на ваши вопросы. Задайте что-нибудь интересное!'\n",
        "\n",
        "    return 'Извините, я не понял ваш вопрос.'\n",
        "\n",
        "# Запускаем бота\n",
        "bot.polling()"
      ],
      "metadata": {
        "id": "LrZ1BSPh1w6S"
      },
      "execution_count": null,
      "outputs": []
    },
    {
      "cell_type": "markdown",
      "source": [
        "## **3. Бот - Энциклопедия**"
      ],
      "metadata": {
        "id": "24I3RrlW3XsG"
      }
    },
    {
      "cell_type": "code",
      "source": [
        "!pip3 install wikipedia"
      ],
      "metadata": {
        "id": "JTTGlOjSisGk"
      },
      "execution_count": null,
      "outputs": []
    },
    {
      "cell_type": "code",
      "source": [
        "import telebot, wikipedia, re\n",
        "# Создаем экземпляр бота\n",
        "bot = telebot.TeleBot('5880107702:AAGKicINDRfRKjNaQVooWtlZT1uqXvnRd9U')\n",
        "# Выбираем русский язык в Wikipedia\n",
        "wikipedia.set_lang(\"ru\")\n",
        "# Чистим текст статьи из Wikipedia и ограничиваем его тысячей символов\n",
        "def getwiki(s):\n",
        "    try:\n",
        "        ny = wikipedia.page(s)\n",
        "        # Получаем первую тысячу символов\n",
        "        wikitext=ny.content[:1000]\n",
        "        # Разбиваем, считая точку разделителем\n",
        "        wikimas=wikitext.split('.')\n",
        "        # Отбрасываем всё после последней точки\n",
        "        wikimas = wikimas[:-1]\n",
        "        # Создаем пустую переменную для текста\n",
        "        wikitext2 = ''\n",
        "        # Проходимся по строкам, где нет знаков «равно» (то есть все, кроме заголовков)\n",
        "        for x in wikimas:\n",
        "            if not('==' in x):\n",
        "                    # Если в строке осталось больше трех символов, добавляем ее\n",
        "                    # к нашей переменной и возвращаем утерянные при разделении строк точки на место\n",
        "                if(len((x.strip()))>3):\n",
        "                   wikitext2=wikitext2+x+'.'\n",
        "            else:\n",
        "                break\n",
        "        # Теперь при помощи регулярных выражений убираем разметку\n",
        "        wikitext2=re.sub('\\([^()]*\\)', '', wikitext2)\n",
        "        wikitext2=re.sub('\\([^()]*\\)', '', wikitext2)\n",
        "        wikitext2=re.sub('\\{[^\\{\\}]*\\}', '', wikitext2)\n",
        "        # Возвращаем текстовую строку\n",
        "        return wikitext2\n",
        "    # Обрабатываем исключение, которое мог вернуть модуль wikipedia при запросе\n",
        "    except Exception as e:\n",
        "        return 'В энциклопедии нет информации об этом'\n",
        "# Функция, обрабатывающая команду /start\n",
        "@bot.message_handler(commands=[\"start\"])\n",
        "def start(m, res=False):\n",
        "    bot.send_message(m.chat.id, 'Введите вопрос')\n",
        "# Получение сообщений от пользователя\n",
        "@bot.message_handler(content_types=[\"text\"])\n",
        "def handle_text(message):\n",
        "    bot.send_message(message.chat.id, getwiki(message.text))\n",
        "# Запускаем бота\n",
        "bot.polling()"
      ],
      "metadata": {
        "id": "doW27ZD5iuNr"
      },
      "execution_count": null,
      "outputs": []
    },
    {
      "cell_type": "markdown",
      "source": [
        "## **4. Бот для перевода голоса в текст** (один язык)"
      ],
      "metadata": {
        "id": "aXP5X2Pw3fbe"
      }
    },
    {
      "cell_type": "code",
      "source": [
        "!pip install pyTelegramBotAPI SpeechRecognition pydub"
      ],
      "metadata": {
        "id": "jbISnsxW3wBK",
        "colab": {
          "base_uri": "https://localhost:8080/"
        },
        "outputId": "7dc05d6c-2687-4cff-f90d-2f7625e78d99"
      },
      "execution_count": null,
      "outputs": [
        {
          "output_type": "stream",
          "name": "stdout",
          "text": [
            "Requirement already satisfied: pyTelegramBotAPI in /usr/local/lib/python3.10/dist-packages (4.14.0)\n",
            "Requirement already satisfied: SpeechRecognition in /usr/local/lib/python3.10/dist-packages (3.10.0)\n",
            "Requirement already satisfied: pydub in /usr/local/lib/python3.10/dist-packages (0.25.1)\n",
            "Requirement already satisfied: requests in /usr/local/lib/python3.10/dist-packages (from pyTelegramBotAPI) (2.31.0)\n",
            "Requirement already satisfied: charset-normalizer<4,>=2 in /usr/local/lib/python3.10/dist-packages (from requests->pyTelegramBotAPI) (3.3.0)\n",
            "Requirement already satisfied: idna<4,>=2.5 in /usr/local/lib/python3.10/dist-packages (from requests->pyTelegramBotAPI) (3.4)\n",
            "Requirement already satisfied: urllib3<3,>=1.21.1 in /usr/local/lib/python3.10/dist-packages (from requests->pyTelegramBotAPI) (2.0.6)\n",
            "Requirement already satisfied: certifi>=2017.4.17 in /usr/local/lib/python3.10/dist-packages (from requests->pyTelegramBotAPI) (2023.7.22)\n"
          ]
        }
      ]
    },
    {
      "cell_type": "code",
      "source": [
        "import os\n",
        "import telebot\n",
        "import speech_recognition\n",
        "from pydub import AudioSegment"
      ],
      "metadata": {
        "id": "shf1DbSe35u5"
      },
      "execution_count": null,
      "outputs": []
    },
    {
      "cell_type": "code",
      "source": [
        "# ↓↓↓ Ниже нужно вставить токен, который дал BotFather при регистрации\n",
        "# Пример: token = '2007628239:AAEF4ZVqLiRKG7j49EC4vaRwXjDN6xng8'\n",
        "token = '5880107702:AAGKicINDRfRKjNaQVooWtlZT1uqXvnRd9U'\n",
        "\n",
        "bot = telebot.TeleBot(token)\n",
        "\n",
        "def download_file(bot, file_id):\n",
        "    # Скачивание файла, который прислал пользователь\n",
        "    file_info = bot.get_file(file_id)\n",
        "    downloaded_file = bot.download_file(file_info.file_path)\n",
        "    filename = file_id + file_info.file_path\n",
        "    filename = filename.replace('/', '_') # Если в имени файла есть символ \"/\", заменить на символ \"_\".\n",
        "    with open(filename, 'wb') as f: # Файл создается и открывается для записи в бинарном режиме\n",
        "        f.write(downloaded_file) # Содержимое скачанного файла (downloaded_file) записывается в созданный файл с именем filename\n",
        "    return filename\n",
        "\n",
        "def oga2wav(filename):\n",
        "    # Конвертация формата файлов\n",
        "    new_filename = filename.replace('.oga', '.wav')\n",
        "    audio = AudioSegment.from_file(filename)\n",
        "    audio.export(new_filename, format='wav')\n",
        "    return new_filename\n",
        "\n",
        "\n",
        "def recognize_speech(oga_filename):\n",
        "    # Перевод голоса в текст + удаление использованных файлов\n",
        "    wav_filename = oga2wav(oga_filename)\n",
        "    recognizer = speech_recognition.Recognizer()\n",
        "\n",
        "    with speech_recognition.WavFile(wav_filename) as source:\n",
        "        wav_audio = recognizer.record(source)\n",
        "\n",
        "    text = recognizer.recognize_google(wav_audio, language='ru')\n",
        "\n",
        "    if os.path.exists(oga_filename):\n",
        "        os.remove(oga_filename)\n",
        "\n",
        "    if os.path.exists(wav_filename):\n",
        "        os.remove(wav_filename)\n",
        "\n",
        "    return text\n",
        "\n",
        "@bot.message_handler(content_types=['voice'])\n",
        "def transcript(message):\n",
        "    # Функция, отправляющая текст в ответ на голосовое\n",
        "    filename = download_file(bot, message.voice.file_id)\n",
        "    text = recognize_speech(filename)\n",
        "    bot.send_message(message.chat.id, text)\n",
        "\n",
        "\n",
        "# Запускаем бота. Он будет работать до тех пор, пока\n",
        "# работает ячейка (крутится значок слева).\n",
        "# Остановим ячейку - остановится бот\n",
        "bot.polling()"
      ],
      "metadata": {
        "id": "psyOFQ114PlE"
      },
      "execution_count": null,
      "outputs": []
    },
    {
      "cell_type": "markdown",
      "source": [
        "## **5. Бот для перевода голоса в текст** (с русского на английский)"
      ],
      "metadata": {
        "id": "NRXqFpHV45xf"
      }
    },
    {
      "cell_type": "code",
      "source": [
        "!pip install translate"
      ],
      "metadata": {
        "id": "5ij0l4415e5w",
        "colab": {
          "base_uri": "https://localhost:8080/"
        },
        "outputId": "d88cfff2-2fde-4f33-9e61-038f46515b44"
      },
      "execution_count": null,
      "outputs": [
        {
          "output_type": "stream",
          "name": "stdout",
          "text": [
            "Collecting translate\n",
            "  Downloading translate-3.6.1-py2.py3-none-any.whl (12 kB)\n",
            "Requirement already satisfied: click in /usr/local/lib/python3.10/dist-packages (from translate) (8.1.7)\n",
            "Requirement already satisfied: lxml in /usr/local/lib/python3.10/dist-packages (from translate) (4.9.3)\n",
            "Requirement already satisfied: requests in /usr/local/lib/python3.10/dist-packages (from translate) (2.31.0)\n",
            "Collecting libretranslatepy==2.1.1 (from translate)\n",
            "  Downloading libretranslatepy-2.1.1-py3-none-any.whl (3.2 kB)\n",
            "Requirement already satisfied: charset-normalizer<4,>=2 in /usr/local/lib/python3.10/dist-packages (from requests->translate) (3.3.0)\n",
            "Requirement already satisfied: idna<4,>=2.5 in /usr/local/lib/python3.10/dist-packages (from requests->translate) (3.4)\n",
            "Requirement already satisfied: urllib3<3,>=1.21.1 in /usr/local/lib/python3.10/dist-packages (from requests->translate) (2.0.6)\n",
            "Requirement already satisfied: certifi>=2017.4.17 in /usr/local/lib/python3.10/dist-packages (from requests->translate) (2023.7.22)\n",
            "Installing collected packages: libretranslatepy, translate\n",
            "Successfully installed libretranslatepy-2.1.1 translate-3.6.1\n"
          ]
        }
      ]
    },
    {
      "cell_type": "code",
      "source": [
        "import telebot\n",
        "import os\n",
        "import speech_recognition\n",
        "from pydub import AudioSegment\n",
        "from translate import Translator  # Используем библиотеку translate\n",
        "\n",
        "token = '5880107702:AAGKicINDRfRKjNaQVooWtlZT1uqXvnRd9U'\n",
        "bot = telebot.TeleBot(token)\n",
        "\n",
        "def download_file(bot, file_id):\n",
        "    # Скачивание файла, который прислал пользователь\n",
        "    file_info = bot.get_file(file_id)\n",
        "    downloaded_file = bot.download_file(file_info.file_path)\n",
        "    filename = file_id + file_info.file_path\n",
        "    filename = filename.replace('/', '_')\n",
        "    with open(filename, 'wb') as f:\n",
        "        f.write(downloaded_file)\n",
        "    return filename\n",
        "\n",
        "def oga2wav(filename):\n",
        "    # Конвертация формата файлов\n",
        "    new_filename = filename.replace('.oga', '.wav')\n",
        "    audio = AudioSegment.from_file(filename)\n",
        "    audio.export(new_filename, format='wav')\n",
        "    return new_filename\n",
        "\n",
        "def recognize_speech(oga_filename):\n",
        "    # Перевод голоса в текст + удаление использованных файлов\n",
        "    wav_filename = oga2wav(oga_filename)\n",
        "    recognizer = speech_recognition.Recognizer()\n",
        "\n",
        "    with speech_recognition.WavFile(wav_filename) as source:\n",
        "        wav_audio = recognizer.record(source)\n",
        "\n",
        "    text = recognizer.recognize_google(wav_audio, language='ru')\n",
        "\n",
        "    if os.path.exists(oga_filename):\n",
        "        os.remove(oga_filename)\n",
        "\n",
        "    if os.path.exists(wav_filename):\n",
        "        os.remove(wav_filename)\n",
        "\n",
        "    return text\n",
        "\n",
        "def translate_text(text):\n",
        "    # Перевести текст с русского на английский\n",
        "    translator = Translator(to_lang='en', from_lang='ru')\n",
        "    translated_text = translator.translate(text)\n",
        "    return translated_text\n",
        "\n",
        "@bot.message_handler(content_types=['voice'])\n",
        "def transcript(message):\n",
        "    # Функция, отправляющая текст в ответ на голосовое\n",
        "    filename = download_file(bot, message.voice.file_id)\n",
        "    text = recognize_speech(filename)\n",
        "    translated_text = translate_text(text)  # Переводим текст с русского на английский\n",
        "    bot.send_message(message.chat.id, translated_text)\n",
        "\n",
        "bot.polling()"
      ],
      "metadata": {
        "id": "BMgWv9365urR"
      },
      "execution_count": null,
      "outputs": []
    },
    {
      "cell_type": "markdown",
      "source": [
        "## **6. Бот для перевода голоса в голос** (с русского на английский)"
      ],
      "metadata": {
        "id": "xV50_8l5lU-U"
      }
    },
    {
      "cell_type": "code",
      "source": [
        "!pip install gTTS\n",
        "!pip install pydub\n",
        "!pip install translate\n",
        "!pip install SpeechRecognition"
      ],
      "metadata": {
        "id": "y9eSBXokcWF1",
        "colab": {
          "base_uri": "https://localhost:8080/"
        },
        "outputId": "0c0608d9-e798-4437-ee33-18d0f3946fbf"
      },
      "execution_count": null,
      "outputs": [
        {
          "output_type": "stream",
          "name": "stdout",
          "text": [
            "Collecting gTTS\n",
            "  Downloading gTTS-2.4.0-py3-none-any.whl (29 kB)\n",
            "Requirement already satisfied: requests<3,>=2.27 in /usr/local/lib/python3.10/dist-packages (from gTTS) (2.31.0)\n",
            "Requirement already satisfied: click<8.2,>=7.1 in /usr/local/lib/python3.10/dist-packages (from gTTS) (8.1.7)\n",
            "Requirement already satisfied: charset-normalizer<4,>=2 in /usr/local/lib/python3.10/dist-packages (from requests<3,>=2.27->gTTS) (3.3.0)\n",
            "Requirement already satisfied: idna<4,>=2.5 in /usr/local/lib/python3.10/dist-packages (from requests<3,>=2.27->gTTS) (3.4)\n",
            "Requirement already satisfied: urllib3<3,>=1.21.1 in /usr/local/lib/python3.10/dist-packages (from requests<3,>=2.27->gTTS) (2.0.6)\n",
            "Requirement already satisfied: certifi>=2017.4.17 in /usr/local/lib/python3.10/dist-packages (from requests<3,>=2.27->gTTS) (2023.7.22)\n",
            "Installing collected packages: gTTS\n",
            "Successfully installed gTTS-2.4.0\n",
            "Requirement already satisfied: pydub in /usr/local/lib/python3.10/dist-packages (0.25.1)\n",
            "Requirement already satisfied: translate in /usr/local/lib/python3.10/dist-packages (3.6.1)\n",
            "Requirement already satisfied: click in /usr/local/lib/python3.10/dist-packages (from translate) (8.1.7)\n",
            "Requirement already satisfied: lxml in /usr/local/lib/python3.10/dist-packages (from translate) (4.9.3)\n",
            "Requirement already satisfied: requests in /usr/local/lib/python3.10/dist-packages (from translate) (2.31.0)\n",
            "Requirement already satisfied: libretranslatepy==2.1.1 in /usr/local/lib/python3.10/dist-packages (from translate) (2.1.1)\n",
            "Requirement already satisfied: charset-normalizer<4,>=2 in /usr/local/lib/python3.10/dist-packages (from requests->translate) (3.3.0)\n",
            "Requirement already satisfied: idna<4,>=2.5 in /usr/local/lib/python3.10/dist-packages (from requests->translate) (3.4)\n",
            "Requirement already satisfied: urllib3<3,>=1.21.1 in /usr/local/lib/python3.10/dist-packages (from requests->translate) (2.0.6)\n",
            "Requirement already satisfied: certifi>=2017.4.17 in /usr/local/lib/python3.10/dist-packages (from requests->translate) (2023.7.22)\n",
            "Requirement already satisfied: SpeechRecognition in /usr/local/lib/python3.10/dist-packages (3.10.0)\n",
            "Requirement already satisfied: requests>=2.26.0 in /usr/local/lib/python3.10/dist-packages (from SpeechRecognition) (2.31.0)\n",
            "Requirement already satisfied: charset-normalizer<4,>=2 in /usr/local/lib/python3.10/dist-packages (from requests>=2.26.0->SpeechRecognition) (3.3.0)\n",
            "Requirement already satisfied: idna<4,>=2.5 in /usr/local/lib/python3.10/dist-packages (from requests>=2.26.0->SpeechRecognition) (3.4)\n",
            "Requirement already satisfied: urllib3<3,>=1.21.1 in /usr/local/lib/python3.10/dist-packages (from requests>=2.26.0->SpeechRecognition) (2.0.6)\n",
            "Requirement already satisfied: certifi>=2017.4.17 in /usr/local/lib/python3.10/dist-packages (from requests>=2.26.0->SpeechRecognition) (2023.7.22)\n"
          ]
        }
      ]
    },
    {
      "cell_type": "code",
      "source": [
        "import telebot\n",
        "import os\n",
        "import speech_recognition\n",
        "from pydub import AudioSegment\n",
        "from translate import Translator\n",
        "from gtts import gTTS\n",
        "\n",
        "token = '5880107702:AAGKicINDRfRKjNaQVooWtlZT1uqXvnRd9U'\n",
        "bot = telebot.TeleBot(token)\n",
        "\n",
        "def download_file(bot, file_id):\n",
        "    # Скачивание файла, который прислал пользователь\n",
        "    file_info = bot.get_file(file_id)\n",
        "    downloaded_file = bot.download_file(file_info.file_path)\n",
        "    filename = file_id + file_info.file_path\n",
        "    filename = filename.replace('/', '_')\n",
        "    with open(filename, 'wb') as f:\n",
        "        f.write(downloaded_file)\n",
        "    return filename\n",
        "\n",
        "def oga2wav(filename):\n",
        "    # Конвертация формата файлов\n",
        "    new_filename = filename.replace('.oga', '.wav')\n",
        "    audio = AudioSegment.from_file(filename)\n",
        "    audio.export(new_filename, format='wav')\n",
        "    return new_filename\n",
        "\n",
        "\n",
        "def recognize_speech(oga_filename):\n",
        "    # Перевод голоса в текст + удаление использованных файлов\n",
        "    wav_filename = oga2wav(oga_filename)\n",
        "    recognizer = speech_recognition.Recognizer()\n",
        "    with speech_recognition.AudioFile(wav_filename) as source:\n",
        "        wav_audio = recognizer.record(source)\n",
        "    text = recognizer.recognize_google(wav_audio, language='ru')\n",
        "    if os.path.exists(oga_filename):\n",
        "        os.remove(oga_filename)\n",
        "    if os.path.exists(wav_filename):\n",
        "        os.remove(wav_filename)\n",
        "    return text\n",
        "\n",
        "def translate_text(text):\n",
        "    # Перевести текст с русского на английский\n",
        "    translator = Translator(to_lang='en', from_lang='ru')\n",
        "    translated_text = translator.translate(text)\n",
        "    return translated_text\n",
        "\n",
        "@bot.message_handler(content_types=['voice'])\n",
        "def transcript(message):\n",
        "    # Функция, отправляющая голосовое сообщение на английском\n",
        "    filename = download_file(bot, message.voice.file_id)\n",
        "    text = recognize_speech(filename)\n",
        "    translated_text = translate_text(text)  # Переводим текст с русского на английский\n",
        "\n",
        "    # Создаем голосовое сообщение на английском\n",
        "    tts = gTTS(translated_text, lang='en')\n",
        "    tts.save('translated_voice.mp3')\n",
        "\n",
        "    # Отправляем голосовое сообщение\n",
        "    with open('translated_voice.mp3', 'rb') as audio:\n",
        "        bot.send_voice(message.chat.id, audio)\n",
        "\n",
        "    # Удаляем временные файлы\n",
        "    if os.path.exists(filename):\n",
        "        os.remove(filename)\n",
        "    if os.path.exists('translated_voice.mp3'):\n",
        "        os.remove('translated_voice.mp3')\n",
        "\n",
        "bot.polling()"
      ],
      "metadata": {
        "id": "nztTBNVqexTp"
      },
      "execution_count": null,
      "outputs": []
    },
    {
      "cell_type": "markdown",
      "source": [
        "## **7. Бот для перевода голоса в голос** (с русского на английский/немецкий)"
      ],
      "metadata": {
        "id": "PksPaBjJVac3"
      }
    },
    {
      "cell_type": "code",
      "source": [
        "!pip install pydub\n",
        "!pip install SpeechRecognition\n",
        "!pip install gTTS\n",
        "!pip install translate"
      ],
      "metadata": {
        "id": "4SL1RjzfWkOX"
      },
      "execution_count": null,
      "outputs": []
    },
    {
      "cell_type": "code",
      "source": [
        "import telebot\n",
        "import os\n",
        "import speech_recognition\n",
        "from pydub import AudioSegment\n",
        "from translate import Translator\n",
        "from gtts import gTTS\n",
        "from telebot import types\n",
        "\n",
        "token = '5880107702:AAGKicINDRfRKjNaQVooWtlZT1uqXvnRd9U'\n",
        "bot = telebot.TeleBot(token)\n",
        "\n",
        "def download_file(bot, file_id):\n",
        "    # Скачивание файла, который прислал пользователь\n",
        "    file_info = bot.get_file(file_id)\n",
        "    downloaded_file = bot.download_file(file_info.file_path)\n",
        "    filename = file_id + file_info.file_path\n",
        "    filename = filename.replace('/', '_')\n",
        "    with open(filename, 'wb') as f:\n",
        "        f.write(downloaded_file)\n",
        "    return filename\n",
        "\n",
        "def oga2wav(filename):\n",
        "    # Конвертация формата файла из .oga в .wav\n",
        "    new_filename = filename.replace('.oga', '.wav')\n",
        "    audio = AudioSegment.from_ogg(filename)\n",
        "    audio.export(new_filename, format='wav')\n",
        "    return new_filename\n",
        "\n",
        "def recognize_speech(oga_filename):\n",
        "    # Перевод голоса в текст + удаление использованных файлов\n",
        "    wav_filename = oga2wav(oga_filename)\n",
        "    recognizer = speech_recognition.Recognizer()\n",
        "    with speech_recognition.AudioFile(wav_filename) as source:\n",
        "        wav_audio = recognizer.record(source)\n",
        "    text = recognizer.recognize_google(wav_audio, language='ru')\n",
        "    if os.path.exists(oga_filename):\n",
        "        os.remove(oga_filename)\n",
        "    if os.path.exists(wav_filename):\n",
        "        os.remove(wav_filename)\n",
        "    return text\n",
        "\n",
        "def translate_text(text, target_language):\n",
        "    # Перевести текст на выбранный язык\n",
        "    translator = Translator(to_lang=target_language, from_lang='ru')\n",
        "    translated_text = translator.translate(text)\n",
        "    return translated_text\n",
        "\n",
        "user_language = {}\n",
        "\n",
        "@bot.message_handler(commands=['start'])\n",
        "def start(message):\n",
        "    # Функция, начинающая диалог с пользователем\n",
        "    user_language[message.chat.id] = None  # Сбрасываем язык при старте\n",
        "    ask_for_translation(message)\n",
        "\n",
        "def ask_for_translation(message):\n",
        "    # Функция, запрашивающая у пользователя язык перевода\n",
        "    markup = types.ReplyKeyboardMarkup(one_time_keyboard=True)\n",
        "    item_en = types.KeyboardButton('Английский')\n",
        "    item_de = types.KeyboardButton('Немецкий')\n",
        "    markup.add(item_en, item_de)\n",
        "    bot.send_message(message.chat.id, 'На какой язык перевести?', reply_markup=markup)\n",
        "    bot.register_next_step_handler(message, get_user_language)\n",
        "\n",
        "def get_user_language(message):\n",
        "    # Функция для получения выбранного пользователем языка перевода\n",
        "    if message.text.lower() == 'английский':\n",
        "        user_language[message.chat.id] = 'en'\n",
        "    elif message.text.lower() == 'немецкий':\n",
        "        user_language[message.chat.id] = 'de'\n",
        "    else:\n",
        "        bot.send_message(message.chat.id, 'Пожалуйста, выберите язык из списка.')\n",
        "        ask_for_translation(message)\n",
        "\n",
        "    bot.send_message(message.chat.id, 'Пожалуйста, отправьте голосовое сообщение.')\n",
        "\n",
        "@bot.message_handler(content_types=['voice'])\n",
        "def translate_voice(message):\n",
        "    # Функция, которая переводит голосовое сообщение\n",
        "    if user_language[message.chat.id] is None:\n",
        "        bot.send_message(message.chat.id, 'Пожалуйста, начните с команды /start и выберите язык перевода.')\n",
        "        return\n",
        "\n",
        "    target_language = user_language[message.chat.id]\n",
        "\n",
        "    if hasattr(message.voice, 'file_id'):\n",
        "        filename = download_file(bot, message.voice.file_id)\n",
        "        text = recognize_speech(filename)\n",
        "        translated_text = translate_text(text, target_language)\n",
        "\n",
        "        tts = gTTS(translated_text, lang=target_language)\n",
        "        tts.save('translated_voice.mp3')\n",
        "\n",
        "        with open('translated_voice.mp3', 'rb') as audio:\n",
        "            bot.send_voice(message.chat.id, audio)\n",
        "\n",
        "        if os.path.exists(filename):\n",
        "            os.remove(filename)\n",
        "        if os.path.exists('translated_voice.mp3'):\n",
        "            os.remove('translated_voice.mp3')\n",
        "    else:\n",
        "        bot.send_message(message.chat.id, 'Пожалуйста, отправьте голосовое сообщение.')\n",
        "\n",
        "bot.polling()"
      ],
      "metadata": {
        "id": "YwlT2tW5VYbU"
      },
      "execution_count": null,
      "outputs": []
    },
    {
      "cell_type": "markdown",
      "source": [],
      "metadata": {
        "id": "oiTHHqoJ7uSF"
      }
    }
  ]
}