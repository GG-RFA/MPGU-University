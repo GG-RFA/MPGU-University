{
  "nbformat": 4,
  "nbformat_minor": 0,
  "metadata": {
    "colab": {
      "provenance": []
    },
    "kernelspec": {
      "name": "python3",
      "display_name": "Python 3"
    },
    "language_info": {
      "name": "python"
    }
  },
  "cells": [
    {
      "cell_type": "markdown",
      "source": [
        "Импортируем модуль \"Socket\""
      ],
      "metadata": {
        "id": "65ILcZjtcyk6"
      }
    },
    {
      "cell_type": "code",
      "execution_count": 49,
      "metadata": {
        "id": "sobKysnGaucH"
      },
      "outputs": [],
      "source": [
        "import socket"
      ]
    },
    {
      "cell_type": "markdown",
      "source": [
        "Объявляем переменные для названия сервера и списка портов"
      ],
      "metadata": {
        "id": "YRu3xXfXc-DS"
      }
    },
    {
      "cell_type": "code",
      "source": [
        "host = 'www.mpgu.su'\n",
        "ports = [20, 80, 110, 8080]"
      ],
      "metadata": {
        "id": "b-H1wj_7a2zs"
      },
      "execution_count": 50,
      "outputs": []
    },
    {
      "cell_type": "markdown",
      "source": [
        "Создаём функцию, тестирующую возможность соединения сервера с портами"
      ],
      "metadata": {
        "id": "1RUf8k1Qd_a0"
      }
    },
    {
      "cell_type": "code",
      "source": [
        "def check_port(host, port):\n",
        "    try:\n",
        "        s = socket.socket(socket.AF_INET, socket.SOCK_STREAM)\n",
        "        s.settimeout(1)\n",
        "        result = s.connect_ex((host, port))\n",
        "        s.close()\n",
        "        if result == 0:\n",
        "            return \"включен\"\n",
        "        else:\n",
        "            return \"отключен\"\n",
        "    except socket.error as e:\n",
        "        return \"Ошибка: {}\".format(e)"
      ],
      "metadata": {
        "id": "Cvazmkvja5Yv"
      },
      "execution_count": 51,
      "outputs": []
    },
    {
      "cell_type": "markdown",
      "source": [
        "Проходимся по всем портам из ранее заданного списка и выводим статус соединения"
      ],
      "metadata": {
        "id": "HhBvyARfeIe8"
      }
    },
    {
      "cell_type": "code",
      "source": [
        "for port in ports:\n",
        "    status = check_port(host, port)\n",
        "    print(\"Порт {}: {}\".format(port, status))"
      ],
      "metadata": {
        "colab": {
          "base_uri": "https://localhost:8080/"
        },
        "id": "6JUAkutga-bc",
        "outputId": "00826b75-ed28-4e7f-9ede-0cae3396cdc5"
      },
      "execution_count": 52,
      "outputs": [
        {
          "output_type": "stream",
          "name": "stdout",
          "text": [
            "Порт 20: отключен\n",
            "Порт 80: включен\n",
            "Порт 110: отключен\n",
            "Порт 8080: отключен\n"
          ]
        }
      ]
    }
  ]
}